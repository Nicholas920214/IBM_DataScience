{
  "nbformat": 4,
  "nbformat_minor": 0,
  "metadata": {
    "colab": {
      "provenance": [],
      "authorship_tag": "ABX9TyNKFTF9p8FJPUaJ/z9fPE5V"
    },
    "kernelspec": {
      "name": "python3",
      "display_name": "Python 3"
    },
    "language_info": {
      "name": "python"
    }
  },
  "cells": [
    {
      "cell_type": "markdown",
      "source": [
        "### Tuples\n",
        "\n",
        "* Tuples are an ordered sequence\n",
        "* It's like the array\n",
        "* It's immutable\n"
      ],
      "metadata": {
        "id": "JoYguiivIv0z"
      }
    },
    {
      "cell_type": "code",
      "source": [
        "tuple1 = (\"disco\", 10, 5.5);\n",
        "print(type(tuple1));\n",
        "tuple2 = tuple1 + (\"hardwork\", 1);\n",
        "print(tuple2[:]);\n",
        "print(tuple2);\n",
        "print(tuple2[0:4]);\n",
        "print(tuple2[3:5]);\n",
        "print(tuple2[-1]);\n",
        "print(tuple2[3:5]);\n",
        "\n",
        "boolean = \"10\" in tuple1;\n",
        "print(boolean);\n",
        "boolean = 10 in tuple1;\n",
        "print(boolean);"
      ],
      "metadata": {
        "colab": {
          "base_uri": "https://localhost:8080/"
        },
        "id": "cav40ko7JE3C",
        "outputId": "e6b56755-0e81-40fd-99a5-7643cc0ddde0"
      },
      "execution_count": 79,
      "outputs": [
        {
          "output_type": "stream",
          "name": "stdout",
          "text": [
            "<class 'tuple'>\n",
            "('disco', 10, 5.5, 'hardwork', 1)\n",
            "('disco', 10, 5.5, 'hardwork', 1)\n",
            "('disco', 10, 5.5, 'hardwork')\n",
            "('hardwork', 1)\n",
            "1\n",
            "('hardwork', 1)\n",
            "False\n",
            "True\n"
          ]
        }
      ]
    },
    {
      "cell_type": "code",
      "source": [
        "# Immutable\n",
        "Ratings = (10, 2, -3, 6, 5);\n",
        "RatingSorted = sorted(Ratings);\n",
        "print(RatingSorted);"
      ],
      "metadata": {
        "colab": {
          "base_uri": "https://localhost:8080/"
        },
        "id": "hcEm09QWJ7-S",
        "outputId": "0c942bb5-7afd-43fc-c86d-ab8b8149e3a2"
      },
      "execution_count": 25,
      "outputs": [
        {
          "output_type": "stream",
          "name": "stdout",
          "text": [
            "[-3, 2, 5, 6, 10]\n"
          ]
        }
      ]
    },
    {
      "cell_type": "code",
      "source": [
        "# Nesting\n",
        "NT = (1, 2, (\"Pop\", 25555), (3, 4), (\"disc\", (5, 6)));\n",
        "print(NT[2][1]);\n",
        "print(NT[4][1]);\n",
        "print(NT[4][1][0]);"
      ],
      "metadata": {
        "colab": {
          "base_uri": "https://localhost:8080/"
        },
        "id": "YEOjpNbnKI30",
        "outputId": "6bd0adc6-71c3-4adc-f51f-e1caf27048b2"
      },
      "execution_count": 14,
      "outputs": [
        {
          "output_type": "stream",
          "name": "stdout",
          "text": [
            "25555\n",
            "(5, 6)\n",
            "5\n"
          ]
        }
      ]
    },
    {
      "cell_type": "markdown",
      "source": [
        "\n",
        "### List\n",
        "* []\n",
        "* List can contain a tuple\n",
        "\n"
      ],
      "metadata": {
        "id": "OPjTk9ZKM0vR"
      }
    },
    {
      "cell_type": "code",
      "source": [
        "L = [\"Michael\", 10.1, 82, [1, 2], (\"A\", 1)];\n",
        "print(L[-1]);\n",
        "print(L[-1][0]);\n",
        "print(L[2:5]);\n",
        "L1 = L + [\"Pop\", 10];\n",
        "print(L);\n",
        "print(L1);"
      ],
      "metadata": {
        "colab": {
          "base_uri": "https://localhost:8080/"
        },
        "id": "bVoOgFMtNFrs",
        "outputId": "00a7a1cb-0fa9-4a32-b685-305f2537f816"
      },
      "execution_count": 31,
      "outputs": [
        {
          "output_type": "stream",
          "name": "stdout",
          "text": [
            "('A', 1)\n",
            "A\n",
            "[82, [1, 2], ('A', 1)]\n",
            "['Michael', 10.1, 82, [1, 2], ('A', 1)]\n",
            "['Michael', 10.1, 82, [1, 2], ('A', 1), 'Pop', 10]\n"
          ]
        }
      ]
    },
    {
      "cell_type": "markdown",
      "source": [
        "#### List concatenation function\n",
        "* Extend: merges two lists or insert multiple elements to a list\n",
        "* Append: adds one element to a list\n",
        "\n"
      ],
      "metadata": {
        "id": "otEu2NwZOGX7"
      }
    },
    {
      "cell_type": "code",
      "source": [
        "L = [\"Michael\", 10, 9.81];\n",
        "L.extend([\"Pop\", 999]);\n",
        "print(L);\n",
        "print(L[3]);\n",
        "print(len(L));"
      ],
      "metadata": {
        "colab": {
          "base_uri": "https://localhost:8080/"
        },
        "id": "3pii_w19OgdS",
        "outputId": "c6ad3859-db00-48d6-b76b-8f0569d22cc4"
      },
      "execution_count": 46,
      "outputs": [
        {
          "output_type": "stream",
          "name": "stdout",
          "text": [
            "['Michael', 10, 9.81, 'Pop', 999]\n",
            "Pop\n",
            "5\n"
          ]
        }
      ]
    },
    {
      "cell_type": "code",
      "source": [
        "L = [\"Michael\", 10, 9.81];\n",
        "L.append([\"Pop\", 999]);\n",
        "print(L);\n",
        "print(L[3]);\n",
        "print(len(L));"
      ],
      "metadata": {
        "colab": {
          "base_uri": "https://localhost:8080/"
        },
        "id": "NJck94pdO0Nz",
        "outputId": "8311e5fb-c5e7-40e6-e165-b31640cad431"
      },
      "execution_count": 47,
      "outputs": [
        {
          "output_type": "stream",
          "name": "stdout",
          "text": [
            "['Michael', 10, 9.81, ['Pop', 999]]\n",
            "['Pop', 999]\n",
            "4\n"
          ]
        }
      ]
    },
    {
      "cell_type": "markdown",
      "source": [
        "#### List is mutable\n",
        "* Can change the value\n",
        "* Can delete it\n",
        "* You can convert string to list"
      ],
      "metadata": {
        "id": "HKRW_KAbPRYb"
      }
    },
    {
      "cell_type": "code",
      "source": [
        "A = [\"hard work\", 10, 888];\n",
        "A[0] = [\"Rock\"];\n",
        "print(A);\n",
        "del(A[1]);\n",
        "print(A);\n",
        "\n",
        "B = \"Hard work\".split();\n",
        "print(B);\n",
        "\n",
        "str1 = \"1, 2, 3, 4\";\n",
        "C = str1.split(\",\");\n",
        "print(C);"
      ],
      "metadata": {
        "colab": {
          "base_uri": "https://localhost:8080/"
        },
        "id": "tjvsWKTrPYeJ",
        "outputId": "f2d4a275-c069-473d-d790-8fc0c6fa7774"
      },
      "execution_count": 41,
      "outputs": [
        {
          "output_type": "stream",
          "name": "stdout",
          "text": [
            "[['Rock'], 10, 888]\n",
            "[['Rock'], 888]\n",
            "['Hard', 'work']\n",
            "['1', ' 2', ' 3', ' 4']\n"
          ]
        }
      ]
    },
    {
      "cell_type": "markdown",
      "source": [
        "#### List: Aliasing\n",
        "* All duplicate lists are pointing to same address\n",
        "* Change one of them, you change all\n",
        "* But you can also use : to clone it"
      ],
      "metadata": {
        "id": "oPy1mkX3QD0v"
      }
    },
    {
      "cell_type": "code",
      "source": [
        "First = [\"Hard rock\", 10, 1.2];\n",
        "Second = First;\n",
        "print(First);\n",
        "print(Second);\n",
        "Second[0] = \"Banana\";\n",
        "print(First);\n",
        "print(Second);\n",
        "\n",
        "Third_Without_Influence = First[:];\n",
        "print(Third_Without_Influence);\n",
        "Third_Without_Influence[0] = \"Pineapple\";\n",
        "print(First);\n",
        "print(Second);\n",
        "print(Third_Without_Influence);"
      ],
      "metadata": {
        "colab": {
          "base_uri": "https://localhost:8080/"
        },
        "id": "mMHTKKkJQON1",
        "outputId": "3c7c8731-4ce7-406f-c000-7d036a5172f8"
      },
      "execution_count": 45,
      "outputs": [
        {
          "output_type": "stream",
          "name": "stdout",
          "text": [
            "['Hard rock', 10, 1.2]\n",
            "['Hard rock', 10, 1.2]\n",
            "['Banana', 10, 1.2]\n",
            "['Banana', 10, 1.2]\n",
            "['Banana', 10, 1.2]\n",
            "['Banana', 10, 1.2]\n",
            "['Banana', 10, 1.2]\n",
            "['Pineapple', 10, 1.2]\n"
          ]
        }
      ]
    },
    {
      "cell_type": "markdown",
      "source": [
        "### Dictionary\n",
        "* it has key and value\n",
        "* key does not need to be an integer\n",
        "* it is mutable\n",
        "* {key1: value1, key2:value2, ...}"
      ],
      "metadata": {
        "id": "BBCZPLFOSqWa"
      }
    },
    {
      "cell_type": "code",
      "source": [
        "Dict = {\"A\":(1, 1), \"B\":20, \"C\":[\"A\", 222], \"D\":\"Demi\"};\n",
        "print(Dict[\"A\"]);\n",
        "Dict[\"E\"] = \"Mutable\";\n",
        "print(Dict);\n",
        "del(Dict[\"B\"]);\n",
        "print(Dict[\"C\"]);\n",
        "print(Dict[\"C\"][1]);\n",
        "boolean = \"A\" in Dict;\n",
        "print(boolean);\n",
        "Keys = Dict.keys();\n",
        "print(Keys);\n",
        "Value = Dict.values();\n",
        "print(Value);"
      ],
      "metadata": {
        "colab": {
          "base_uri": "https://localhost:8080/"
        },
        "id": "qDH8uW7oS_51",
        "outputId": "5fd8882c-807a-4769-d0ab-efa381a3e107"
      },
      "execution_count": 55,
      "outputs": [
        {
          "output_type": "stream",
          "name": "stdout",
          "text": [
            "(1, 1)\n",
            "{'A': (1, 1), 'B': 20, 'C': ['A', 222], 'D': 'Demi', 'E': 'Mutable'}\n",
            "['A', 222]\n",
            "222\n",
            "True\n",
            "dict_keys(['A', 'C', 'D', 'E'])\n",
            "dict_values([(1, 1), ['A', 222], 'Demi', 'Mutable'])\n"
          ]
        }
      ]
    },
    {
      "cell_type": "markdown",
      "source": [
        "### Set\n",
        "* set is a type\n",
        "* it is unordered\n",
        "* it has unique value\n",
        "\n"
      ],
      "metadata": {
        "id": "EAyIDRPSUe2W"
      }
    },
    {
      "cell_type": "code",
      "source": [
        "Set1 = {\"Demi\", \"Mike\", \"Nicolas\", \"Demi\"};\n",
        "print(Set1);\n",
        "List = [\"Demi\", \"Mike\", \"Nicolas\", \"Demi\"];\n",
        "print(set(List));\n",
        "Set1.add(\"Kyle\");\n",
        "print(Set1);\n",
        "Set1.remove(\"Mike\");\n",
        "print(Set1);\n",
        "boolean = \"Andrew\" in Set1;\n",
        "print(boolean);\n",
        "Set2 = {\"Tommy\", \"Andrew\", \"Demi\"};\n",
        "print(Set2);"
      ],
      "metadata": {
        "colab": {
          "base_uri": "https://localhost:8080/"
        },
        "id": "UZsvZ0XVWa1X",
        "outputId": "8f61bc61-d73b-4f05-a462-60ff91d65f4a"
      },
      "execution_count": 66,
      "outputs": [
        {
          "output_type": "stream",
          "name": "stdout",
          "text": [
            "{'Nicolas', 'Mike', 'Demi'}\n",
            "{'Nicolas', 'Demi', 'Mike'}\n",
            "{'Kyle', 'Nicolas', 'Mike', 'Demi'}\n",
            "{'Kyle', 'Nicolas', 'Demi'}\n",
            "False\n",
            "{'Andrew', 'Tommy', 'Demi'}\n"
          ]
        }
      ]
    },
    {
      "cell_type": "markdown",
      "source": [
        "#### Operation and Function\n",
        "* &\n",
        "* difference\n",
        "* intersection\n",
        "* union\n",
        "* superset\n",
        "* subset"
      ],
      "metadata": {
        "id": "y2XC3Y0_XY6w"
      }
    },
    {
      "cell_type": "code",
      "source": [
        "print(\"Set1 is: \", Set1);\n",
        "print(\"Set2 is: \", Set2);\n",
        "intersection = Set1 & Set2;\n",
        "print(intersection);\n",
        "\n",
        "Set_difference = Set1.difference(Set2);\n",
        "print(Set_difference);\n",
        "\n",
        "Set_intersection = Set1.intersection(Set2);\n",
        "print(Set_intersection); # same as &\n",
        "\n",
        "Set_union = Set1.union(Set2);\n",
        "print(Set_union);\n",
        "print(\"Set1 is: \", Set1);\n",
        "print(\"Set2 is: \", Set2);\n",
        "\n",
        "boolean = set({\"Demi\", \"Nicolas\"}).issubset(Set1);\n",
        "print(boolean);\n",
        "boolean = {\"Demi\", \"Nicolas\"}.issuperset(Set1);\n",
        "print(boolean);\n",
        "boolean = {\"Demi\", \"Nicolas\", \"Kyle\", \"Demi\"}.issuperset(Set1);\n",
        "print(boolean);"
      ],
      "metadata": {
        "colab": {
          "base_uri": "https://localhost:8080/"
        },
        "id": "HCDRK9GRXyQF",
        "outputId": "d2611e25-1c36-4bc3-ccd0-45c9d2cf05fb"
      },
      "execution_count": 77,
      "outputs": [
        {
          "output_type": "stream",
          "name": "stdout",
          "text": [
            "Set1 is:  {'Kyle', 'Nicolas', 'Demi'}\n",
            "Set2 is:  {'Andrew', 'Tommy', 'Demi'}\n",
            "{'Demi'}\n",
            "{'Nicolas', 'Kyle'}\n",
            "{'Demi'}\n",
            "{'Nicolas', 'Demi', 'Kyle', 'Tommy', 'Andrew'}\n",
            "Set1 is:  {'Kyle', 'Nicolas', 'Demi'}\n",
            "Set2 is:  {'Andrew', 'Tommy', 'Demi'}\n",
            "True\n",
            "False\n",
            "True\n"
          ]
        }
      ]
    }
  ]
}