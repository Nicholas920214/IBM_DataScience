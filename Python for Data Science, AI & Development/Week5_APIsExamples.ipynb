{
  "nbformat": 4,
  "nbformat_minor": 0,
  "metadata": {
    "colab": {
      "provenance": [],
      "authorship_tag": "ABX9TyPOsJiCsuoVSKMF1TOiNqzu"
    },
    "kernelspec": {
      "name": "python3",
      "display_name": "Python 3"
    },
    "language_info": {
      "name": "python"
    }
  },
  "cells": [
    {
      "cell_type": "markdown",
      "source": [
        "### RandomUser API\n",
        "* The API can return multiple results, as well as specify generated user details such as gender, email, image, username, address, title, first and last name, and more.\n",
        "* https://randomuser.me/documentation?utm_medium=Exinfluencer&utm_source=Exinfluencer&utm_content=000026UJ&utm_term=10006555&utm_id=NA-SkillsNetwork-Channel-SkillsNetworkCoursesIBMDeveloperSkillsNetworkPY0101ENSkillsNetwork1005-2023-01-01#intro"
      ],
      "metadata": {
        "id": "89VzmJYflT-k"
      }
    },
    {
      "cell_type": "code",
      "execution_count": null,
      "metadata": {
        "colab": {
          "base_uri": "https://localhost:8080/"
        },
        "id": "mnW5v4hzlP2J",
        "outputId": "2d17dbfa-9609-437b-d908-be007a722bee"
      },
      "outputs": [
        {
          "output_type": "stream",
          "name": "stdout",
          "text": [
            "Looking in indexes: https://pypi.org/simple, https://us-python.pkg.dev/colab-wheels/public/simple/\n",
            "Collecting randomuser\n",
            "  Downloading randomuser-1.6.tar.gz (5.0 kB)\n",
            "  Preparing metadata (setup.py) ... \u001b[?25l\u001b[?25hdone\n",
            "Building wheels for collected packages: randomuser\n",
            "  Building wheel for randomuser (setup.py) ... \u001b[?25l\u001b[?25hdone\n",
            "  Created wheel for randomuser: filename=randomuser-1.6-py3-none-any.whl size=5066 sha256=8bd67fddf0e456303a07c8d246a9b5cffaa2aef5bffef09ed699341e55c0b140\n",
            "  Stored in directory: /root/.cache/pip/wheels/b8/f3/19/6a938647065b4bb2471a9d063647d14d4fcc3236731f4e2b53\n",
            "Successfully built randomuser\n",
            "Installing collected packages: randomuser\n",
            "Successfully installed randomuser-1.6\n"
          ]
        }
      ],
      "source": [
        "# install the randomuser library\n",
        "!pip install randomuser;\n",
        "# load necessary library\n",
        "from randomuser import RandomUser;\n",
        "import pandas as pd"
      ]
    },
    {
      "cell_type": "code",
      "source": [
        "r = RandomUser(); # create a random user object\n",
        "some_list = r.generate_users(10); # get a list of random 10 users\n",
        "print(some_list);\n",
        "# Using Get method to generate the required parameters to construct a dataset\n",
        "for user in some_list:\n",
        "  print(user.get_full_name(),\" \",user.get_email());\n",
        "for user in some_list:\n",
        "  print (user.get_picture());\n",
        "# To generate a table with information about the users, we can write a function containing all desirable parameters\n",
        "def get_users():\n",
        "  users =[];\n",
        "  for user in RandomUser.generate_users(10):\n",
        "    users.append({\"Name\":user.get_full_name(),\"Gender\":user.get_gender(),\"City\":user.get_city(),\"State\":user.get_state(),\"Email\":user.get_email(), \"DOB\":user.get_dob(),\"Picture\":user.get_picture()});\n",
        "  return pd.DataFrame(users);\n",
        "\n",
        "df1 = pd.DataFrame(get_users());\n",
        "print(df1);"
      ],
      "metadata": {
        "colab": {
          "base_uri": "https://localhost:8080/"
        },
        "id": "m-p3hkoVmXt6",
        "outputId": "0f8089fd-4708-42ce-d804-eb15f32c2eec"
      },
      "execution_count": null,
      "outputs": [
        {
          "output_type": "stream",
          "name": "stdout",
          "text": [
            "[<randomuser.RandomUser object at 0x7f19d3fb4af0>, <randomuser.RandomUser object at 0x7f19d3fb6ad0>, <randomuser.RandomUser object at 0x7f19d3fb5a20>, <randomuser.RandomUser object at 0x7f19d3fb77f0>, <randomuser.RandomUser object at 0x7f19d3fb6a70>, <randomuser.RandomUser object at 0x7f19d3fb7670>, <randomuser.RandomUser object at 0x7f19d3fb57e0>, <randomuser.RandomUser object at 0x7f19d3fb7ac0>, <randomuser.RandomUser object at 0x7f19d3fb49a0>, <randomuser.RandomUser object at 0x7f19d3fb4e20>]\n",
            "Isabella Li   isabella.li@example.com\n",
            "Erasmo da Paz   erasmo.dapaz@example.com\n",
            "Emily Mckinney   emily.mckinney@example.com\n",
            "Rémy Van der Wielen   remy.vanderwielen@example.com\n",
            "Kasper Nielsen   kasper.nielsen@example.com\n",
            "Antoine Bouchard   antoine.bouchard@example.com\n",
            "Nurdan Günday   nurdan.gunday@example.com\n",
            "Valon Perrin   valon.perrin@example.com\n",
            "Oya Elçiboğa   oya.elciboga@example.com\n",
            "Mathew Chapman   mathew.chapman@example.com\n",
            "https://randomuser.me/api/portraits/women/70.jpg\n",
            "https://randomuser.me/api/portraits/men/88.jpg\n",
            "https://randomuser.me/api/portraits/women/73.jpg\n",
            "https://randomuser.me/api/portraits/men/90.jpg\n",
            "https://randomuser.me/api/portraits/men/30.jpg\n",
            "https://randomuser.me/api/portraits/men/73.jpg\n",
            "https://randomuser.me/api/portraits/women/34.jpg\n",
            "https://randomuser.me/api/portraits/men/71.jpg\n",
            "https://randomuser.me/api/portraits/women/13.jpg\n",
            "https://randomuser.me/api/portraits/men/77.jpg\n",
            "               Name  Gender               City           State  \\\n",
            "0      Deborah Dean  female             Fermoy           Clare   \n",
            "1      Aquino Souza    male              Tatuí  Rio de Janeiro   \n",
            "2         Ella Park  female           Stirling         Ontario   \n",
            "3   Tristan Andrews    male         Balbriggan           Sligo   \n",
            "4   Christian Silva    male           Donabate       Roscommon   \n",
            "5      Erica Hubert  female              Wengi          Zürich   \n",
            "6     Chloe Edwards  female          Whangarei     Hawke'S Bay   \n",
            "7       Wade Rogers    male             Durham  Worcestershire   \n",
            "8      Adrian Marin    male  Alcalá de Henares        Cataluña   \n",
            "9  Melike Numanoğlu  female          Kırıkkale         Karaman   \n",
            "\n",
            "                          Email                       DOB  \\\n",
            "0      deborah.dean@example.com  1945-03-02T18:13:37.982Z   \n",
            "1      aquino.souza@example.com  1984-06-06T16:07:26.521Z   \n",
            "2         ella.park@example.com  1993-01-11T01:11:05.398Z   \n",
            "3   tristan.andrews@example.com  1969-05-17T06:00:54.175Z   \n",
            "4   christian.silva@example.com  1963-09-02T20:38:40.523Z   \n",
            "5      erica.hubert@example.com  1979-07-14T15:16:46.300Z   \n",
            "6     chloe.edwards@example.com  1959-11-09T03:57:43.095Z   \n",
            "7       wade.rogers@example.com  1994-02-12T14:02:08.169Z   \n",
            "8      adrian.marin@example.com  1988-09-20T20:50:39.789Z   \n",
            "9  melike.numanoglu@example.com  1971-05-20T09:52:48.021Z   \n",
            "\n",
            "                                            Picture  \n",
            "0  https://randomuser.me/api/portraits/women/80.jpg  \n",
            "1    https://randomuser.me/api/portraits/men/16.jpg  \n",
            "2   https://randomuser.me/api/portraits/women/4.jpg  \n",
            "3    https://randomuser.me/api/portraits/men/65.jpg  \n",
            "4    https://randomuser.me/api/portraits/men/72.jpg  \n",
            "5  https://randomuser.me/api/portraits/women/74.jpg  \n",
            "6  https://randomuser.me/api/portraits/women/82.jpg  \n",
            "7    https://randomuser.me/api/portraits/men/85.jpg  \n",
            "8    https://randomuser.me/api/portraits/men/70.jpg  \n",
            "9  https://randomuser.me/api/portraits/women/25.jpg  \n"
          ]
        }
      ]
    },
    {
      "cell_type": "markdown",
      "source": [
        "### Fruityvice API\n",
        "* https://www.fruityvice.com/?utm_medium=Exinfluencer&utm_source=Exinfluencer&utm_content=000026UJ&utm_term=10006555&utm_id=NA-SkillsNetwork-Channel-SkillsNetworkCoursesIBMDeveloperSkillsNetworkPY0101ENSkillsNetwork1005-2023-01-01"
      ],
      "metadata": {
        "id": "_xmUMPttnjBQ"
      }
    },
    {
      "cell_type": "code",
      "source": [
        "import requests;\n",
        "import json;"
      ],
      "metadata": {
        "id": "4LGbtDHRn3hd"
      },
      "execution_count": null,
      "outputs": []
    },
    {
      "cell_type": "code",
      "source": [
        "# Get the data from API with json format\n",
        "data = requests.get(\"https://fruityvice.com/api/fruit/all\");\n",
        "# Retrieve the data\n",
        "results = json.loads(data.text);\n",
        "pd.DataFrame(results); # convert to dataframe -> nested json file\n",
        "# normalize the data\n",
        "df2 = pd.json_normalize(results);\n",
        "print(df2);"
      ],
      "metadata": {
        "colab": {
          "base_uri": "https://localhost:8080/"
        },
        "id": "qxUIZPhJn7gz",
        "outputId": "6690c8fc-d767-494c-fdc3-e0ed7ec97805"
      },
      "execution_count": null,
      "outputs": [
        {
          "output_type": "stream",
          "name": "stdout",
          "text": [
            "            name  id           family             order         genus  \\\n",
            "0      Persimmon  52        Ebenaceae           Rosales     Diospyros   \n",
            "1     Strawberry   3         Rosaceae           Rosales      Fragaria   \n",
            "2         Banana   1         Musaceae      Zingiberales          Musa   \n",
            "3         Tomato   5       Solanaceae         Solanales       Solanum   \n",
            "4           Pear   4         Rosaceae           Rosales         Pyrus   \n",
            "5         Durian  60        Malvaceae          Malvales         Durio   \n",
            "6     Blackberry  64         Rosaceae           Rosales         Rubus   \n",
            "7    Lingonberry  65        Ericaceae          Ericales     Vaccinium   \n",
            "8           Kiwi  66    Actinidiaceae  Struthioniformes       Apteryx   \n",
            "9         Lychee  67      Sapindaceae        Sapindales        Litchi   \n",
            "10     Pineapple  10     Bromeliaceae            Poales        Ananas   \n",
            "11           Fig  68         Moraceae           Rosales         Ficus   \n",
            "12    Gooseberry  69  Grossulariaceae      Saxifragales         Ribes   \n",
            "13  Passionfruit  70   Passifloraceae      Malpighiales    Passiflora   \n",
            "14          Plum  71         Rosaceae           Rosales        Prunus   \n",
            "15        Orange   2         Rutaceae        Sapindales        Citrus   \n",
            "16    GreenApple  72         Rosaceae           Rosales         Malus   \n",
            "17     Raspberry  23         Rosaceae           Rosales         Rubus   \n",
            "18    Watermelon  25    Cucurbitaceae      Cucurbitales     Citrullus   \n",
            "19         Lemon  26         Rutaceae        Sapindales        Citrus   \n",
            "20         Mango  27    Anacardiaceae        Sapindales     Mangifera   \n",
            "21     Blueberry  33         Rosaceae           Rosales      Fragaria   \n",
            "22         Apple   6         Rosaceae           Rosales         Malus   \n",
            "23         Guava  37        Myrtaceae          Myrtales       Psidium   \n",
            "24       Apricot  35         Rosaceae           Rosales        Prunus   \n",
            "25        Papaya  42       Caricaceae         Caricacea        Carica   \n",
            "26         Melon  41    Cucurbitaceae     Cucurbitaceae       Cucumis   \n",
            "27     Tangerine  77         Rutaceae        Sapindales        Citrus   \n",
            "28      Pitahaya  78        Cactaceae    Caryophyllales     Cactaceae   \n",
            "29          Lime  44         Rutaceae        Sapindales        Citrus   \n",
            "30   Pomegranate  79       Lythraceae          Myrtales        Punica   \n",
            "31   Dragonfruit  80        Cactaceae    Caryophyllales  Selenicereus   \n",
            "32         Grape  81         Vitaceae           Vitales         Vitis   \n",
            "33         Morus  82         Moraceae           Rosales         Morus   \n",
            "34        Feijoa  76        Myrtaceae        Myrtoideae    Sellowiana   \n",
            "35       Avocado  84        Lauraceae          Laurales        Persea   \n",
            "36     Kiwifruit  85    Actinidiaceae          Ericales     Actinidia   \n",
            "37     Cranberry  87        Ericaceae          Ericales     Vaccinium   \n",
            "38        Cherry   9         Rosaceae           Rosales        Prunus   \n",
            "39         Peach  86         Rosaceae           Rosales        Prunus   \n",
            "40     Jackfruit  94         Moraceae           Rosales    Artocarpus   \n",
            "41  Horned Melon  95    Cucurbitaceae      Cucurbitales       Cucumis   \n",
            "\n",
            "    nutritions.calories  nutritions.fat  nutritions.sugar  \\\n",
            "0                    81            0.00             18.00   \n",
            "1                    29            0.40              5.40   \n",
            "2                    96            0.20             17.20   \n",
            "3                    74            0.20              2.60   \n",
            "4                    57            0.10             10.00   \n",
            "5                   147            5.30              6.75   \n",
            "6                    40            0.40              4.50   \n",
            "7                    50            0.34              5.74   \n",
            "8                    61            0.50              9.00   \n",
            "9                    66            0.44             15.00   \n",
            "10                   50            0.12              9.85   \n",
            "11                   74            0.30             16.00   \n",
            "12                   44            0.60              0.00   \n",
            "13                   97            0.70             11.20   \n",
            "14                   46            0.28              9.92   \n",
            "15                   43            0.20              8.20   \n",
            "16                   21            0.10              6.40   \n",
            "17                   53            0.70              4.40   \n",
            "18                   30            0.20              6.00   \n",
            "19                   29            0.30              2.50   \n",
            "20                   60            0.38             13.70   \n",
            "21                   29            0.40              5.40   \n",
            "22                   52            0.40             10.30   \n",
            "23                   68            1.00              9.00   \n",
            "24                   15            0.10              3.20   \n",
            "25                   43            0.40              1.00   \n",
            "26                   34            0.00              8.00   \n",
            "27                   45            0.40              9.10   \n",
            "28                   36            0.40              3.00   \n",
            "29                   25            0.10              1.70   \n",
            "30                   83            1.20             13.70   \n",
            "31                   60            1.50              8.00   \n",
            "32                   69            0.16             16.00   \n",
            "33                   43            0.39              8.10   \n",
            "34                   44            0.40              3.00   \n",
            "35                  160           14.66              0.66   \n",
            "36                   61            0.50              8.90   \n",
            "37                   46            0.10              4.00   \n",
            "38                   50            0.30              8.00   \n",
            "39                   39            0.25              8.40   \n",
            "40                   95            0.00             19.10   \n",
            "41                   44            1.26              0.50   \n",
            "\n",
            "    nutritions.carbohydrates  nutritions.protein  \n",
            "0                      18.00                0.00  \n",
            "1                       5.50                0.80  \n",
            "2                      22.00                1.00  \n",
            "3                       3.90                0.90  \n",
            "4                      15.00                0.40  \n",
            "5                      27.10                1.50  \n",
            "6                       9.00                1.30  \n",
            "7                      11.30                0.75  \n",
            "8                      15.00                1.10  \n",
            "9                      17.00                0.80  \n",
            "10                     13.12                0.54  \n",
            "11                     19.00                0.80  \n",
            "12                     10.00                0.90  \n",
            "13                     22.40                2.20  \n",
            "14                     11.40                0.70  \n",
            "15                      8.30                1.00  \n",
            "16                      3.10                0.40  \n",
            "17                     12.00                1.20  \n",
            "18                      8.00                0.60  \n",
            "19                      9.00                1.10  \n",
            "20                     15.00                0.82  \n",
            "21                      5.50                0.00  \n",
            "22                     11.40                0.30  \n",
            "23                     14.00                2.60  \n",
            "24                      3.90                0.50  \n",
            "25                     11.00                0.00  \n",
            "26                      8.00                0.00  \n",
            "27                      8.30                0.00  \n",
            "28                      7.00                1.00  \n",
            "29                      8.40                0.30  \n",
            "30                     18.70                1.70  \n",
            "31                      9.00                9.00  \n",
            "32                     18.10                0.72  \n",
            "33                      9.80                1.44  \n",
            "34                      8.00                0.60  \n",
            "35                      8.53                2.00  \n",
            "36                     14.60                1.14  \n",
            "37                     12.20                0.40  \n",
            "38                     12.00                1.00  \n",
            "39                      9.50                0.90  \n",
            "40                     23.20                1.72  \n",
            "41                      7.56                1.78  \n"
          ]
        }
      ]
    },
    {
      "cell_type": "code",
      "source": [
        "cherry = df2.loc[df2[\"name\"] == \"Cherry\"];\n",
        "print(cherry);\n",
        "\n",
        "# print(cherry.iloc[0][\"family\"]); cannot use loc here\n",
        "print(cherry.loc[38][\"family\"]);\n",
        "print(cherry.iloc[0][2]);\n",
        "#print(cherry.iloc[0][\"genus\"]); cannot use loc here\n",
        "print(cherry.loc[38][\"genus\"]);\n",
        "print(cherry.iloc[0][4]);"
      ],
      "metadata": {
        "colab": {
          "base_uri": "https://localhost:8080/"
        },
        "id": "fMumoACuor1Z",
        "outputId": "ae9cfa97-eef0-465a-fde5-0f8aeb3f6fce"
      },
      "execution_count": 32,
      "outputs": [
        {
          "output_type": "stream",
          "name": "stdout",
          "text": [
            "      name  id    family    order   genus  nutritions.calories  \\\n",
            "38  Cherry   9  Rosaceae  Rosales  Prunus                   50   \n",
            "\n",
            "    nutritions.fat  nutritions.sugar  nutritions.carbohydrates  \\\n",
            "38             0.3               8.0                      12.0   \n",
            "\n",
            "    nutritions.protein  \n",
            "38                 1.0  \n",
            "Rosaceae\n",
            "Rosaceae\n",
            "Prunus\n",
            "Prunus\n"
          ]
        }
      ]
    }
  ]
}