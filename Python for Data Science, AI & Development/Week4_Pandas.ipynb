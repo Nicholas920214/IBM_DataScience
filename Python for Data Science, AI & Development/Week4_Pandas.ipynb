{
  "nbformat": 4,
  "nbformat_minor": 0,
  "metadata": {
    "colab": {
      "provenance": [],
      "authorship_tag": "ABX9TyOIukh6Q5kZKntpyVt1QaIY"
    },
    "kernelspec": {
      "name": "python3",
      "display_name": "Python 3"
    },
    "language_info": {
      "name": "python"
    }
  },
  "cells": [
    {
      "cell_type": "markdown",
      "source": [
        "### Pandas\n",
        "* Dataframe: two-dimensional\n",
        "* Series: one dimension -> one column\n",
        "* Using one bracket can get a serie\n",
        "* You can get series from slicing the dataframe\n",
        "* Using double bracket can get a dataframe\n",
        "* Using the following table to practice\n",
        "\n",
        "|   | Student | Age | Country | Course           | Marks |\n",
        "|---|---------|-----|---------|------------------|-------|\n",
        "| 0 | David   | 27  | UK      | Python           | 85    |\n",
        "| 1 | Samuel  | 24  | Canada  | Data Structures  | 72    |\n",
        "| 2 | Terry   | 22  | China   | Machine Learning | 89    |\n",
        "| 3 | Evan    | 32  | USA     | Web Development  | 76    |"
      ],
      "metadata": {
        "id": "KjuuIUSTS9Ey"
      }
    },
    {
      "cell_type": "code",
      "execution_count": null,
      "metadata": {
        "id": "jmN4aKeAS5As",
        "colab": {
          "base_uri": "https://localhost:8080/"
        },
        "outputId": "27a2c846-691e-4b36-e327-8d92f256cee1"
      },
      "outputs": [
        {
          "output_type": "stream",
          "name": "stdout",
          "text": [
            "  Student  Age Country           Courese  Marks\n",
            "0   David   27      UK            Python     85\n",
            "1  Samuel   24  Canada   Data Structures     72\n",
            "2   Terry   22   China  Machine Learning     89\n",
            "3    Evan   32     USA   Web Development     76\n"
          ]
        }
      ],
      "source": [
        "# Import pandas\n",
        "import pandas as pd\n",
        "# Create a dictionary\n",
        "x = {\"Student\": [\"David\", \"Samuel\", \"Terry\", \"Evan\"], \"Age\": [27, 24, 22, 32], \"Country\": [\"UK\", \"Canada\", \"China\", \"USA\"], \"Courese\": [\"Python\", \"Data Structures\", \"Machine Learning\", \"Web Development\"], \"Marks\": [85, 72, 89, 76]};\n",
        "df = pd.DataFrame(x);\n",
        "print(df);"
      ]
    },
    {
      "cell_type": "code",
      "source": [
        "# Serie\n",
        "age = df[\"Age\"];\n",
        "print(age);\n",
        "print(\"Type of age: \", type(age));\n",
        "# DataFrame\n",
        "age = df[[\"Age\"]];\n",
        "print(age);\n",
        "print(\"Type of age: \", type(age));"
      ],
      "metadata": {
        "colab": {
          "base_uri": "https://localhost:8080/"
        },
        "id": "jJDa1aqVKOtM",
        "outputId": "c2304358-688f-47f7-e435-0cdfeea58c5a"
      },
      "execution_count": null,
      "outputs": [
        {
          "output_type": "stream",
          "name": "stdout",
          "text": [
            "0    27\n",
            "1    24\n",
            "2    22\n",
            "3    32\n",
            "Name: Age, dtype: int64\n",
            "Type of age:  <class 'pandas.core.series.Series'>\n",
            "   Age\n",
            "0   27\n",
            "1   24\n",
            "2   22\n",
            "3   32\n",
            "Type of age:  <class 'pandas.core.frame.DataFrame'>\n"
          ]
        }
      ]
    },
    {
      "cell_type": "code",
      "source": [
        "# Cannot use: Multi = df[\"Student\", \"Country\", \"Marks\"]; -> since it's not a serie\n",
        "Multi = df[[\"Student\", \"Country\", \"Marks\"]]\n",
        "print(Multi);"
      ],
      "metadata": {
        "colab": {
          "base_uri": "https://localhost:8080/"
        },
        "id": "BzDWKLDUKkiY",
        "outputId": "010a4f7a-4a74-4e71-c6cf-0974451865cf"
      },
      "execution_count": null,
      "outputs": [
        {
          "output_type": "stream",
          "name": "stdout",
          "text": [
            "  Student Country  Marks\n",
            "0   David      UK     85\n",
            "1  Samuel  Canada     72\n",
            "2   Terry   China     89\n",
            "3    Evan     USA     76\n"
          ]
        }
      ]
    },
    {
      "cell_type": "markdown",
      "source": [
        "#### loc()\n",
        "* This method includes the last element of the range passed in it.\n",
        "* loc[row_label, column_label]\n",
        "* **loc cannot use index,the column section will be label**\n",
        "\n",
        "#### iloc()\n",
        "* This method does not include the last element of the range passed in it.\n",
        "* iloc[row_index, column_index]\n",
        "* **iloc cannot use label, the column section will be index**"
      ],
      "metadata": {
        "id": "fQIkJro6LrzU"
      }
    },
    {
      "cell_type": "code",
      "source": [
        "print(df.iloc[0, 0]);\n",
        "print(df.iloc[0, 2]);\n",
        "print(df.loc[0, \"Country\"]);\n",
        "print(df.loc[0, \"Country\"]);\n",
        "\n",
        "\n",
        "print(df.iloc[0:3, 0:3]); # only retrieve 0-2 row, 0-2 column\n",
        "print(\"\\n\");\n",
        "print(df.loc[0:2, \"Student\":\"Country\"]);\n",
        "print(\"\\n\");\n",
        "print(df.loc[\"David\":\"Terry\", \"Student\":\"Country\"]);"
      ],
      "metadata": {
        "colab": {
          "base_uri": "https://localhost:8080/"
        },
        "id": "K5L9feWJLo35",
        "outputId": "44c9b41f-a8d0-4157-d84a-e33cb978a1c6"
      },
      "execution_count": null,
      "outputs": [
        {
          "output_type": "stream",
          "name": "stdout",
          "text": [
            "David\n",
            "UK\n",
            "UK\n",
            "UK\n",
            "  Student  Age Country\n",
            "0   David   27      UK\n",
            "1  Samuel   24  Canada\n",
            "2   Terry   22   China\n",
            "\n",
            "\n",
            "  Student  Age Country\n",
            "0   David   27      UK\n",
            "1  Samuel   24  Canada\n",
            "2   Terry   22   China\n",
            "\n",
            "\n",
            "Empty DataFrame\n",
            "Columns: [Student, Age, Country]\n",
            "Index: []\n"
          ]
        }
      ]
    },
    {
      "cell_type": "code",
      "source": [
        "# Read data from CSV file\n",
        "\n",
        "csv_path = 'https://cf-courses-data.s3.us.cloud-object-storage.appdomain.cloud/IBMDeveloperSkillsNetwork-PY0101EN-SkillsNetwork/labs/Module%204/data/TopSellingAlbums.csv'\n",
        "df = pd.read_csv(csv_path);\n",
        "print(df.head());"
      ],
      "metadata": {
        "colab": {
          "base_uri": "https://localhost:8080/"
        },
        "id": "olKRieR7ReZ0",
        "outputId": "af64e75d-47ad-40b8-9cc3-836ef66d471a"
      },
      "execution_count": null,
      "outputs": [
        {
          "output_type": "stream",
          "name": "stdout",
          "text": [
            "            Artist                      Album  Released   Length  \\\n",
            "0  Michael Jackson                   Thriller      1982  0:42:19   \n",
            "1            AC/DC              Back in Black      1980  0:42:11   \n",
            "2       Pink Floyd  The Dark Side of the Moon      1973  0:42:49   \n",
            "3  Whitney Houston              The Bodyguard      1992  0:57:44   \n",
            "4        Meat Loaf            Bat Out of Hell      1977  0:46:33   \n",
            "\n",
            "                         Genre  Music Recording Sales (millions)  \\\n",
            "0               pop, rock, R&B                              46.0   \n",
            "1                    hard rock                              26.1   \n",
            "2             progressive rock                              24.2   \n",
            "3               R&B, soul, pop                              27.4   \n",
            "4  hard rock, progressive rock                              20.6   \n",
            "\n",
            "   Claimed Sales (millions) Released.1 Soundtrack  Rating  \n",
            "0                        65  30-Nov-82        NaN    10.0  \n",
            "1                        50  25-Jul-80        NaN     9.5  \n",
            "2                        45  01-Mar-73        NaN     9.0  \n",
            "3                        44  17-Nov-92          Y     8.5  \n",
            "4                        43  21-Oct-77        NaN     8.0  \n"
          ]
        }
      ]
    },
    {
      "cell_type": "code",
      "source": [
        "xlsx_path = 'https://s3-api.us-geo.objectstorage.softlayer.net/cf-courses-data/CognitiveClass/PY0101EN/Chapter%204/Datasets/TopSellingAlbums.xlsx'\n",
        "\n",
        "df = pd.read_excel(xlsx_path)\n",
        "print(df.head());"
      ],
      "metadata": {
        "colab": {
          "base_uri": "https://localhost:8080/"
        },
        "id": "ES5MhX2RSYve",
        "outputId": "d7a7f7ac-7e7f-4abf-c4b0-e9a2fb9fd6fc"
      },
      "execution_count": null,
      "outputs": [
        {
          "output_type": "stream",
          "name": "stdout",
          "text": [
            "            Artist                      Album  Released    Length  \\\n",
            "0  Michael Jackson                   Thriller      1982  00:42:19   \n",
            "1            AC/DC              Back in Black      1980  00:42:11   \n",
            "2       Pink Floyd  The Dark Side of the Moon      1973  00:42:49   \n",
            "3  Whitney Houston              The Bodyguard      1992  00:57:44   \n",
            "4        Meat Loaf            Bat Out of Hell      1977  00:46:33   \n",
            "\n",
            "                         Genre  Music Recording Sales (millions)  \\\n",
            "0               pop, rock, R&B                              46.0   \n",
            "1                    hard rock                              26.1   \n",
            "2             progressive rock                              24.2   \n",
            "3               R&B, soul, pop                              27.4   \n",
            "4  hard rock, progressive rock                              20.6   \n",
            "\n",
            "   Claimed Sales (millions) Released.1 Soundtrack  Rating  \n",
            "0                        65 1982-11-30        NaN    10.0  \n",
            "1                        50 1980-07-25        NaN     9.5  \n",
            "2                        45 1973-03-01        NaN     9.0  \n",
            "3                        44 1992-11-17          Y     8.5  \n",
            "4                        43 1977-10-21        NaN     8.0  \n"
          ]
        }
      ]
    },
    {
      "cell_type": "code",
      "source": [
        "x = df[[\"Length\"]];\n",
        "print(x);"
      ],
      "metadata": {
        "colab": {
          "base_uri": "https://localhost:8080/"
        },
        "id": "5BmkCfcsSd2P",
        "outputId": "9cabde12-4b31-4998-d479-70d25e12776a"
      },
      "execution_count": null,
      "outputs": [
        {
          "output_type": "stream",
          "name": "stdout",
          "text": [
            "     Length\n",
            "0  00:42:19\n",
            "1  00:42:11\n",
            "2  00:42:49\n",
            "3  00:57:44\n",
            "4  00:46:33\n",
            "5  00:43:08\n",
            "6  01:15:54\n",
            "7  00:40:01\n"
          ]
        }
      ]
    },
    {
      "cell_type": "code",
      "source": [
        "print(df.iloc[0, 0]);\n",
        "print(df.loc[0, \"Artist\"])\n",
        "print(df.iloc[1, 0]);\n",
        "print(df.loc[1, \"Artist\"]);\n",
        "print(df.iloc[1, 2]);\n",
        "print(df.loc[1, \"Released\"]);\n",
        "print(df.iloc[0:2, 0:3]);\n",
        "print(df.loc[0:2, \"Artist\":\"Released\"]);"
      ],
      "metadata": {
        "colab": {
          "base_uri": "https://localhost:8080/"
        },
        "id": "s9wdMfwdSxD6",
        "outputId": "4bc3e4f3-5b0a-413b-d4fe-a2f327801f5b"
      },
      "execution_count": null,
      "outputs": [
        {
          "output_type": "stream",
          "name": "stdout",
          "text": [
            "Michael Jackson\n",
            "Michael Jackson\n",
            "AC/DC\n",
            "AC/DC\n",
            "1980\n",
            "1980\n",
            "            Artist          Album  Released\n",
            "0  Michael Jackson       Thriller      1982\n",
            "1            AC/DC  Back in Black      1980\n",
            "            Artist                      Album  Released\n",
            "0  Michael Jackson                   Thriller      1982\n",
            "1            AC/DC              Back in Black      1980\n",
            "2       Pink Floyd  The Dark Side of the Moon      1973\n"
          ]
        }
      ]
    }
  ]
}