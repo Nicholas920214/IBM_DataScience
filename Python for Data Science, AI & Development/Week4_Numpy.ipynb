{
  "nbformat": 4,
  "nbformat_minor": 0,
  "metadata": {
    "colab": {
      "provenance": [],
      "authorship_tag": "ABX9TyNmuVYWmkZgiKlZQyjJ++eq"
    },
    "kernelspec": {
      "name": "python3",
      "display_name": "Python 3"
    },
    "language_info": {
      "name": "python"
    }
  },
  "cells": [
    {
      "cell_type": "markdown",
      "source": [
        "### NumPy ----- One Dimensional Array\n",
        "* Provides a lot of operations and supporting for arrays\n",
        "* The type of the value in an array are consistent -> it will cast type automatically"
      ],
      "metadata": {
        "id": "rnqlAbL9WWI3"
      }
    },
    {
      "cell_type": "code",
      "execution_count": 32,
      "metadata": {
        "id": "jmN4aKeAS5As",
        "colab": {
          "base_uri": "https://localhost:8080/"
        },
        "outputId": "36dff322-52e3-447f-b5d3-59b0f6627af9"
      },
      "outputs": [
        {
          "output_type": "stream",
          "name": "stdout",
          "text": [
            "[0 1 2 3 4]\n",
            "0\n",
            "1\n",
            "2\n",
            "3\n",
            "4\n",
            "<class 'numpy.ndarray'>\n",
            "int64\n",
            "[20  1  2  3  4]\n",
            "[20  0  2  3  4]\n",
            "int64\n",
            "[  3.1   11.02   6.2  213.2    5.2 ]\n",
            "float64\n",
            "[ 11.02   6.2  213.2 ]\n",
            "[2 4]\n",
            "[5 6 7]\n",
            "[1 2 3 4]\n"
          ]
        }
      ],
      "source": [
        "# import NumPy\n",
        "import numpy as np;\n",
        "# Create a numpy array\n",
        "a = np.array([0, 1, 2, 3, 4]);\n",
        "print(a);\n",
        "# Another format\n",
        "for x in a:\n",
        "  print(x);\n",
        "\n",
        "print(type(a));\n",
        "print(a.dtype); # type of value in the array\n",
        "\n",
        "b = np.array([20, 1, 2, 3, 4]);\n",
        "print(b);\n",
        "b[1] = 0.6;\n",
        "print(b); # convert float to integer\n",
        "print(b.dtype);\n",
        "\n",
        "c = np.array([3.1, 11.02, 6.2, 213.2, 5.2]);\n",
        "print(c);\n",
        "print(c.dtype);\n",
        "\n",
        "d = c[1:4];\n",
        "print(d);\n",
        "\n",
        "arr = np.array([1, 2, 3, 4, 5, 6, 7])\n",
        "print(arr[1:5:2]);\n",
        "print(arr[4:]);\n",
        "print(arr[:4]);"
      ]
    },
    {
      "cell_type": "markdown",
      "source": [
        "#### Array Operation"
      ],
      "metadata": {
        "id": "Zgx-TBtqYFjK"
      }
    },
    {
      "cell_type": "code",
      "source": [
        "u = np.array([0, 1]);\n",
        "v = np.array([1, 0]);\n",
        "ad = u + v;\n",
        "print(\"u + v = \", ad);\n",
        "addition = np.add(u, v);\n",
        "print(\"u + v = \", addition);\n",
        "\n",
        "a = np.array([10, 20, 30]);\n",
        "b = np.array([5, 10, 15]);\n",
        "sub = a - b;\n",
        "print(\"a - b = \", sub);\n",
        "subtraction = np.subtract(a, b);\n",
        "print(\"a - b = \", subtraction);\n",
        "\n",
        "x = np.array([1, 2]);\n",
        "y = np.array([2, 1]);\n",
        "mul = x * y;\n",
        "print(\"x * y = \", mul);\n",
        "multiplication = np.multiply(x, y);\n",
        "print(\"x * y = \", multiplication);\n",
        "\n",
        "a = np.array([10, 20, 30]);\n",
        "b = np.array([2, 10, 5]);\n",
        "div = a / b;\n",
        "print(\"a / b = \", div);\n",
        "division = np.divide(a, b);\n",
        "print(\"a / b = \", division);\n",
        "\n",
        "# Recall linear algebra: dot of matrix\n",
        "X = np.array([1, 2]);\n",
        "Y = np.array([3, 2]);\n",
        "dot = np.dot(X, Y);\n",
        "print(\"X dot Y = \", dot);\n",
        "\n",
        "u = np.array([1, 2, 3, -1]);\n",
        "print(\"u + 1 = \", u + 1);"
      ],
      "metadata": {
        "colab": {
          "base_uri": "https://localhost:8080/"
        },
        "id": "226_gBsjYHfM",
        "outputId": "2fa241b2-bfb5-4f05-9457-cef4b7682ec7"
      },
      "execution_count": 22,
      "outputs": [
        {
          "output_type": "stream",
          "name": "stdout",
          "text": [
            "u + v =  [1 1]\n",
            "u + v =  [1 1]\n",
            "a - b =  [ 5 10 15]\n",
            "a - b =  [ 5 10 15]\n",
            "x * y =  [2 2]\n",
            "x * y =  [2 2]\n",
            "a / b =  [5. 2. 6.]\n",
            "a / b =  [5. 2. 6.]\n",
            "X dot Y =  7\n",
            "u + 1 =  [2 3 4 0]\n"
          ]
        }
      ]
    },
    {
      "cell_type": "code",
      "source": [
        "x = np.array([0, np.pi/2 , np.pi]);\n",
        "print(x);\n",
        "y = np.sin(x);\n",
        "print(y);"
      ],
      "metadata": {
        "colab": {
          "base_uri": "https://localhost:8080/"
        },
        "id": "IKMGCP91aEk4",
        "outputId": "c97d5532-2bc3-4056-9e17-cbfe369dcd8e"
      },
      "execution_count": 23,
      "outputs": [
        {
          "output_type": "stream",
          "name": "stdout",
          "text": [
            "[0.         1.57079633 3.14159265]\n",
            "[0.0000000e+00 1.0000000e+00 1.2246468e-16]\n"
          ]
        }
      ]
    },
    {
      "cell_type": "markdown",
      "source": [
        "#### Linspace\n",
        "* cut an interval with linspaces"
      ],
      "metadata": {
        "id": "SnSIaA_eaTNO"
      }
    },
    {
      "cell_type": "code",
      "source": [
        "# Makeup a numpy array within [-2, 2] and 5 elements\n",
        "print(np.linspace(-2, 2, num=5));\n",
        "\n",
        "# Make a numpy array within [-2, 2] and 9 elements\n",
        "print(np.linspace(-2, 2, num=9));"
      ],
      "metadata": {
        "colab": {
          "base_uri": "https://localhost:8080/"
        },
        "id": "cUhJKBNmaZ3_",
        "outputId": "6f4394b7-a213-4be9-a0ab-50f4443721dc"
      },
      "execution_count": 25,
      "outputs": [
        {
          "output_type": "stream",
          "name": "stdout",
          "text": [
            "[-2. -1.  0.  1.  2.]\n",
            "[-2.  -1.5 -1.  -0.5  0.   0.5  1.   1.5  2. ]\n"
          ]
        }
      ]
    },
    {
      "cell_type": "code",
      "source": [
        "# Make a numpy array within [0, 2π] and 100 elements\n",
        "x = np.linspace(0, 2*np.pi, num=100);\n",
        "y = np.sin(x);\n",
        "print(y);\n",
        "\n",
        "# import plotting library\n",
        "import matplotlib.pyplot as plt;\n",
        "plt.plot(y);"
      ],
      "metadata": {
        "colab": {
          "base_uri": "https://localhost:8080/",
          "height": 864
        },
        "id": "UvPpIOS6a3Qz",
        "outputId": "dceab8da-723e-4b2a-e156-71cfd6718759"
      },
      "execution_count": 30,
      "outputs": [
        {
          "output_type": "stream",
          "name": "stdout",
          "text": [
            "[ 0.00000000e+00  6.34239197e-02  1.26592454e-01  1.89251244e-01\n",
            "  2.51147987e-01  3.12033446e-01  3.71662456e-01  4.29794912e-01\n",
            "  4.86196736e-01  5.40640817e-01  5.92907929e-01  6.42787610e-01\n",
            "  6.90079011e-01  7.34591709e-01  7.76146464e-01  8.14575952e-01\n",
            "  8.49725430e-01  8.81453363e-01  9.09631995e-01  9.34147860e-01\n",
            "  9.54902241e-01  9.71811568e-01  9.84807753e-01  9.93838464e-01\n",
            "  9.98867339e-01  9.99874128e-01  9.96854776e-01  9.89821442e-01\n",
            "  9.78802446e-01  9.63842159e-01  9.45000819e-01  9.22354294e-01\n",
            "  8.95993774e-01  8.66025404e-01  8.32569855e-01  7.95761841e-01\n",
            "  7.55749574e-01  7.12694171e-01  6.66769001e-01  6.18158986e-01\n",
            "  5.67059864e-01  5.13677392e-01  4.58226522e-01  4.00930535e-01\n",
            "  3.42020143e-01  2.81732557e-01  2.20310533e-01  1.58001396e-01\n",
            "  9.50560433e-02  3.17279335e-02 -3.17279335e-02 -9.50560433e-02\n",
            " -1.58001396e-01 -2.20310533e-01 -2.81732557e-01 -3.42020143e-01\n",
            " -4.00930535e-01 -4.58226522e-01 -5.13677392e-01 -5.67059864e-01\n",
            " -6.18158986e-01 -6.66769001e-01 -7.12694171e-01 -7.55749574e-01\n",
            " -7.95761841e-01 -8.32569855e-01 -8.66025404e-01 -8.95993774e-01\n",
            " -9.22354294e-01 -9.45000819e-01 -9.63842159e-01 -9.78802446e-01\n",
            " -9.89821442e-01 -9.96854776e-01 -9.99874128e-01 -9.98867339e-01\n",
            " -9.93838464e-01 -9.84807753e-01 -9.71811568e-01 -9.54902241e-01\n",
            " -9.34147860e-01 -9.09631995e-01 -8.81453363e-01 -8.49725430e-01\n",
            " -8.14575952e-01 -7.76146464e-01 -7.34591709e-01 -6.90079011e-01\n",
            " -6.42787610e-01 -5.92907929e-01 -5.40640817e-01 -4.86196736e-01\n",
            " -4.29794912e-01 -3.71662456e-01 -3.12033446e-01 -2.51147987e-01\n",
            " -1.89251244e-01 -1.26592454e-01 -6.34239197e-02 -2.44929360e-16]\n"
          ]
        },
        {
          "output_type": "display_data",
          "data": {
            "text/plain": [
              "<Figure size 640x480 with 1 Axes>"
            ],
            "image/png": "[encoded data removed]"
          },
          "metadata": {}
        }
      ]
    },
    {
      "cell_type": "markdown",
      "source": [
        "### Two Dimensional Array"
      ],
      "metadata": {
        "id": "8yUPc_uBbx1m"
      }
    },
    {
      "cell_type": "code",
      "source": [
        "# Create a list\n",
        "a = [[11, 12, 13], [21, 22, 23], [31, 32, 33]];\n",
        "# Convert list to Numpy Array\n",
        "# Every element is the same type\n",
        "\n",
        "A = np.array(a);\n",
        "print(A);\n",
        "\n",
        "# Show the numpy array dimensions\n",
        "print(A.ndim);\n",
        "\n",
        "# Show the numpy array shape\n",
        "print(A.shape);\n",
        "\n",
        "# Show the numpy array size\n",
        "print(A.size);\n",
        "\n",
        "print(A[0][0:2]);\n",
        "print(\"\\n\");\n",
        "print(A[0:2, 2]); # be aware of the syntax!!"
      ],
      "metadata": {
        "colab": {
          "base_uri": "https://localhost:8080/"
        },
        "id": "f1voSkgzcHSa",
        "outputId": "af625910-2ace-4ab9-9a7e-34bde84aecd3"
      },
      "execution_count": 43,
      "outputs": [
        {
          "output_type": "stream",
          "name": "stdout",
          "text": [
            "[[11 12 13]\n",
            " [21 22 23]\n",
            " [31 32 33]]\n",
            "2\n",
            "(3, 3)\n",
            "9\n",
            "[11 12]\n",
            "\n",
            "\n",
            "[13 23]\n"
          ]
        }
      ]
    },
    {
      "cell_type": "code",
      "source": [
        "Y = np.array([[2, 1], [1, 2]]);\n",
        "print(2 * Y);"
      ],
      "metadata": {
        "colab": {
          "base_uri": "https://localhost:8080/"
        },
        "id": "fqj1nkYkdGQD",
        "outputId": "eead5533-13e1-4255-e1a9-6e0d3f72daed"
      },
      "execution_count": 44,
      "outputs": [
        {
          "output_type": "stream",
          "name": "stdout",
          "text": [
            "[[4 2]\n",
            " [2 4]]\n"
          ]
        }
      ]
    },
    {
      "cell_type": "code",
      "source": [
        "Y = np.array([[2, 1], [1, 2]]);\n",
        "X = np.array([[1, 0], [0, 1]]);\n",
        "print(X * Y);"
      ],
      "metadata": {
        "colab": {
          "base_uri": "https://localhost:8080/"
        },
        "id": "Nm8jN8tFdIjG",
        "outputId": "2c6ce069-50ee-496d-ebce-eef0df8996ea"
      },
      "execution_count": 46,
      "outputs": [
        {
          "output_type": "stream",
          "name": "stdout",
          "text": [
            "[[2 0]\n",
            " [0 2]]\n"
          ]
        }
      ]
    },
    {
      "cell_type": "code",
      "source": [
        "A = np.array([[0, 1, 1], [1, 0, 1]]);\n",
        "B = np.array([[1, 1], [1, 1], [-1, 1]]);\n",
        "Z = np.dot(A, B);\n",
        "print(Z);\n",
        "plt.plot(np.sin(Z));"
      ],
      "metadata": {
        "colab": {
          "base_uri": "https://localhost:8080/",
          "height": 465
        },
        "id": "Y88RC-IAdqhh",
        "outputId": "8fd15d01-b3d5-4a32-8864-9c4ed73539ff"
      },
      "execution_count": 48,
      "outputs": [
        {
          "output_type": "stream",
          "name": "stdout",
          "text": [
            "[[0 2]\n",
            " [0 2]]\n"
          ]
        },
        {
          "output_type": "display_data",
          "data": {
            "text/plain": [
              "<Figure size 640x480 with 1 Axes>"
            ],
            "image/png": "[encoded data removed]"
          },
          "metadata": {}
        }
      ]
    },
    {
      "cell_type": "code",
      "source": [
        "C = np.array([[1,1],[2,2],[3,3]]);\n",
        "print(C);\n",
        "# Get the transposed of C\n",
        "C_T = C.T;\n",
        "print(C_T);"
      ],
      "metadata": {
        "colab": {
          "base_uri": "https://localhost:8080/"
        },
        "id": "_2cBmhHpd_dv",
        "outputId": "8ab76c49-141f-4332-c363-0a2203c96076"
      },
      "execution_count": 49,
      "outputs": [
        {
          "output_type": "stream",
          "name": "stdout",
          "text": [
            "[[1 1]\n",
            " [2 2]\n",
            " [3 3]]\n",
            "[[1 2 3]\n",
            " [1 2 3]]\n"
          ]
        }
      ]
    }
  ]
}