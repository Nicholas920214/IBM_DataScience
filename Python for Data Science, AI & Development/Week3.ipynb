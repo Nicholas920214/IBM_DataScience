{
  "nbformat": 4,
  "nbformat_minor": 0,
  "metadata": {
    "colab": {
      "provenance": [],
      "authorship_tag": "ABX9TyMFZDb9EkZ5w9u8UkzLVspy"
    },
    "kernelspec": {
      "name": "python3",
      "display_name": "Python 3"
    },
    "language_info": {
      "name": "python"
    }
  },
  "cells": [
    {
      "cell_type": "markdown",
      "source": [
        "### Condition\n",
        "* if():\n",
        "* elif():\n",
        "* else:\n",
        "\n",
        "#### Operators\n",
        "* and\n",
        "* or\n",
        "* not"
      ],
      "metadata": {
        "id": "zTXIjo6hed_Y"
      }
    },
    {
      "cell_type": "code",
      "source": [
        "age = int(input(\"Input an age: \")); # must type casting, or the input function will take the input as a string\n",
        "if(age > 18):\n",
        "  print(\"You can enter.\");\n",
        "elif(age == 18):\n",
        "  print(\"Go another concert.\");\n",
        "else:\n",
        "  print(\"No way.\");\n",
        "\n",
        "print(not(True));"
      ],
      "metadata": {
        "colab": {
          "base_uri": "https://localhost:8080/"
        },
        "id": "YqYYw4uAf7Sq",
        "outputId": "54a99997-8bc6-41b7-f24f-2f9cb6585dbe"
      },
      "execution_count": null,
      "outputs": [
        {
          "output_type": "stream",
          "name": "stdout",
          "text": [
            "Input an age: 17\n",
            "No way.\n",
            "False\n"
          ]
        }
      ]
    },
    {
      "cell_type": "markdown",
      "source": [
        "### Loops\n",
        "* range(N): [0, N) -> (o, N-1)\n",
        "* range(a, b): [a, b)\n",
        "* Mostly used in a list, since tuple is immutable.\n",
        "* emunerate() can be used to extract the index and value in a loop"
      ],
      "metadata": {
        "id": "scynlLD5h8MV"
      }
    },
    {
      "cell_type": "code",
      "source": [
        "square = [\"Yellow\", \"Red\", \"Purple\", \"Green\", \"Blue\"];\n",
        "for i in range(0, 5): # from squre[0] to squre[4]\n",
        "  square[i] = \"White\";\n",
        "  print(square[i]);\n",
        "print(\"\\n\");\n",
        "\n",
        "square = [\"Yellow\", \"Red\", \"Purple\", \"Green\", \"Blue\"];\n",
        "for squares in square:\n",
        "  print(squares);\n",
        "print(\"\\n\");\n",
        "\n",
        "for i, squares in enumerate(square):\n",
        "  print(\"index: \", i, \"\\nvalue: \", squares);\n",
        "  print(\"\\n\");"
      ],
      "metadata": {
        "colab": {
          "base_uri": "https://localhost:8080/"
        },
        "id": "2wtz_TxSiqph",
        "outputId": "d21986ed-2346-48d7-a869-50d29a36a31e"
      },
      "execution_count": null,
      "outputs": [
        {
          "output_type": "stream",
          "name": "stdout",
          "text": [
            "White\n",
            "White\n",
            "White\n",
            "White\n",
            "White\n",
            "\n",
            "\n",
            "Yellow\n",
            "Red\n",
            "Purple\n",
            "Green\n",
            "Blue\n",
            "\n",
            "\n",
            "index:  0 \n",
            "value:  Yellow\n",
            "\n",
            "\n",
            "index:  1 \n",
            "value:  Red\n",
            "\n",
            "\n",
            "index:  2 \n",
            "value:  Purple\n",
            "\n",
            "\n",
            "index:  3 \n",
            "value:  Green\n",
            "\n",
            "\n",
            "index:  4 \n",
            "value:  Blue\n",
            "\n",
            "\n"
          ]
        }
      ]
    },
    {
      "cell_type": "code",
      "source": [
        "# while loops\n",
        "squares = [\"Orange\", \"Orange\", \"Purple\", \"Orange\", \"Blue\"];\n",
        "newsquares = []; # initialization\n",
        "i = 0;\n",
        "while(squares[i] == \"Orange\"): # stop at \"Purple\"\n",
        "  newsquares.append(squares[i]);\n",
        "  i = i + 1;\n",
        "  print(newsquares);\n",
        "print(newsquares);"
      ],
      "metadata": {
        "colab": {
          "base_uri": "https://localhost:8080/"
        },
        "id": "cqfO32zhkvTi",
        "outputId": "31a5d54a-3c79-4a13-957b-422218aab9e7"
      },
      "execution_count": null,
      "outputs": [
        {
          "output_type": "stream",
          "name": "stdout",
          "text": [
            "0\n",
            "1\n",
            "['Orange']\n",
            "1\n",
            "2\n",
            "['Orange', 'Orange']\n",
            "['Orange', 'Orange']\n"
          ]
        }
      ]
    },
    {
      "cell_type": "markdown",
      "source": [
        "### Function\n",
        "* if there is nothing to return, it will return(None)\n",
        "* It's not like C++. Sometimes you just use a built-in function and useful syntax -> it will be convenient"
      ],
      "metadata": {
        "id": "ralQZ6Pvl4Xm"
      }
    },
    {
      "cell_type": "code",
      "source": [
        "# String comparison -> use \"in\"\n",
        "string = \"I am the best\";\n",
        "def check_test(str1):\n",
        "  if str1 in string:\n",
        "    return \"String matched\";\n",
        "  else:\n",
        "    return \"Failed\";\n",
        "\n",
        "print(check_test(\"I am the best\"));"
      ],
      "metadata": {
        "colab": {
          "base_uri": "https://localhost:8080/"
        },
        "id": "SDSjJhcUnsxm",
        "outputId": "84320148-7775-45bf-b641-c02bd3879c60"
      },
      "execution_count": 4,
      "outputs": [
        {
          "output_type": "stream",
          "name": "stdout",
          "text": [
            "String matched\n"
          ]
        }
      ]
    },
    {
      "cell_type": "code",
      "source": [
        "# Using hard-working method -> write a comparestring function\n",
        "def compareString(x, y):\n",
        "  if x == y:\n",
        "    return 1;\n",
        "  else:\n",
        "    return 0;\n",
        "\n",
        "#str1 = \"I am the best\";\n",
        "#str2 = \"You are the best\";\n",
        "str1 = input(\"Input the first string: \");\n",
        "str2 = input(\"Input the second string: \");\n",
        "check = compareString(str1, str2);\n",
        "\n",
        "if check:\n",
        "  print(\"String matched\");\n",
        "else:\n",
        "  print(\"Failed\");"
      ],
      "metadata": {
        "colab": {
          "base_uri": "https://localhost:8080/"
        },
        "id": "fno-Fty0oBVb",
        "outputId": "a4ffef8b-4773-44ac-a0c6-e99d6a743848"
      },
      "execution_count": 7,
      "outputs": [
        {
          "output_type": "stream",
          "name": "stdout",
          "text": [
            "Input the first string: You are the best\n",
            "Input the second string: You are the best\n",
            "String matched\n"
          ]
        }
      ]
    },
    {
      "cell_type": "code",
      "source": [
        "# Counting the frequency of a phrase\n",
        "def frequency(string):\n",
        "  # A list variable is declared and initialized to an empty list.\n",
        "  words = [];\n",
        "  # Split the string\n",
        "  words = string.split();\n",
        "  # Create a dict\n",
        "  # It is used to store the word as a key, and its counts as a value\n",
        "  Dict = {};\n",
        "\n",
        "  # using counting build-in function\n",
        "  # It's useful and powerful\n",
        "  for key in words:\n",
        "    Dict[key] = words.count(key);\n",
        "\n",
        "  print(\"The frequency of words is: \", Dict);\n",
        "  return(None);\n",
        "\n",
        "frequency(\"Mary had a little lamb Little lamb, little lamb Mary had a little lamb.Its fleece was white as snow And everywhere that Mary went Mary went, Mary went \\\n",
        "Everywhere that Mary went The lamb was sure to go\");"
      ],
      "metadata": {
        "colab": {
          "base_uri": "https://localhost:8080/"
        },
        "id": "5ujHo1KxqLPh",
        "outputId": "50b7a783-6114-4e07-8725-a804ed0d10db"
      },
      "execution_count": 9,
      "outputs": [
        {
          "output_type": "stream",
          "name": "stdout",
          "text": [
            "The frequency of words is:  {'Mary': 6, 'had': 2, 'a': 2, 'little': 3, 'lamb': 3, 'Little': 1, 'lamb,': 1, 'lamb.Its': 1, 'fleece': 1, 'was': 2, 'white': 1, 'as': 1, 'snow': 1, 'And': 1, 'everywhere': 1, 'that': 2, 'went': 3, 'went,': 1, 'Everywhere': 1, 'The': 1, 'sure': 1, 'to': 1, 'go': 1}\n"
          ]
        }
      ]
    },
    {
      "cell_type": "code",
      "source": [
        "# When input argument is unknown, you can use args\n",
        "def printAll(*args): # All the arguments are 'packed' into args which can be treated like a tuple\n",
        "    print(\"No of arguments:\", len(args))\n",
        "    for argument in args:\n",
        "        print(argument)\n",
        "#printAll with 3 arguments\n",
        "printAll('Horsefeather','Adonis','Bone')\n",
        "#printAll with 4 arguments\n",
        "printAll('Sidecar','Long Island','Mudslide','Carriage')"
      ],
      "metadata": {
        "colab": {
          "base_uri": "https://localhost:8080/"
        },
        "id": "HDXad4LeryI1",
        "outputId": "60adec92-b128-44ce-cf52-baa843fb5f70"
      },
      "execution_count": 10,
      "outputs": [
        {
          "output_type": "stream",
          "name": "stdout",
          "text": [
            "No of arguments: 3\n",
            "Horsefeather\n",
            "Adonis\n",
            "Bone\n",
            "No of arguments: 4\n",
            "Sidecar\n",
            "Long Island\n",
            "Mudslide\n",
            "Carriage\n"
          ]
        }
      ]
    },
    {
      "cell_type": "code",
      "source": [
        "# Note that it is **args\n",
        "def printDictionary(**args):\n",
        "    for key in args:\n",
        "        print(key + \" : \" + args[key])\n",
        "\n",
        "printDictionary(Country='Canada',Province='Ontario',City='Toronto')"
      ],
      "metadata": {
        "colab": {
          "base_uri": "https://localhost:8080/"
        },
        "id": "AIJCqtmMr6JC",
        "outputId": "24a3b65b-80b0-4cf5-fbb6-d3860cadcd69"
      },
      "execution_count": 11,
      "outputs": [
        {
          "output_type": "stream",
          "name": "stdout",
          "text": [
            "Country : Canada\n",
            "Province : Ontario\n",
            "City : Toronto\n"
          ]
        }
      ]
    },
    {
      "cell_type": "code",
      "source": [
        "# Or you can just assign a list or a tuple to avoid args\n",
        "def addItems(list):\n",
        "    list.append(\"Three\");\n",
        "    list.append(\"Four\");\n",
        "\n",
        "myList = [\"One\",\"Two\"];\n",
        "\n",
        "addItems(myList);\n",
        "\n",
        "print(myList, \"\\n\");\n",
        "\n",
        "# Rewrite\n",
        "def printAll(tuple1):\n",
        "    print(\"No of arguments:\", len(tuple1))\n",
        "    for argument in tuple1:\n",
        "        print(argument);\n",
        "    return(None);\n",
        "tuple1 = ('Horsefeather','Adonis','Bone');\n",
        "printAll(tuple1);\n",
        "tuple1 = (\"Sidecar\",\"Long Island\",\"Mudslide\",\"Carriage\");\n",
        "printAll(tuple1);\n",
        "print(\"\\n\");\n",
        "\n",
        "def printDictionary(Dict1):\n",
        "    for key in Dict1:\n",
        "        print(key + \" : \" + Dict1[key]); # if using comma, the output will have another one space\n",
        "    return(None);\n",
        "Dict1 = {\"Country\":\"Canada\", \"Province\":\"Ontario\", \"City\":\"Toronto\"};\n",
        "printDictionary(Dict1);"
      ],
      "metadata": {
        "colab": {
          "base_uri": "https://localhost:8080/"
        },
        "id": "LYUO4_f4sByR",
        "outputId": "89af4a87-c4ff-4379-c0b5-e4ef3a5807a1"
      },
      "execution_count": 18,
      "outputs": [
        {
          "output_type": "stream",
          "name": "stdout",
          "text": [
            "['One', 'Two', 'Three', 'Four'] \n",
            "\n",
            "No of arguments: 3\n",
            "Horsefeather\n",
            "Adonis\n",
            "Bone\n",
            "No of arguments: 4\n",
            "Sidecar\n",
            "Long Island\n",
            "Mudslide\n",
            "Carriage\n",
            "\n",
            "\n",
            "Country : Canada\n",
            "Province : Ontario\n",
            "City : Toronto\n"
          ]
        }
      ]
    },
    {
      "cell_type": "markdown",
      "source": [
        "### Objects and Classes\n",
        "* class Name(object): -> It is the standard form\n",
        "* _init _(self, attribute1, attribute2, ...) -> constructor, and self is the parameter"
      ],
      "metadata": {
        "id": "uQcbDQwguR6Y"
      }
    },
    {
      "cell_type": "code",
      "source": [
        "class Circle(object):\n",
        "  def __init__(self, radi, col): # it's __ not _ !!!!!!!!!!!!!!!! Two dash!!!!!!!!!!!!!!\n",
        "    self.radius = radi;\n",
        "    self.color = col;\n",
        "\n",
        "  # Method\n",
        "  def add_radius(self, r):\n",
        "    self.radius = self.radius + r;\n",
        "    return(None);\n",
        "\n",
        "C1 = Circle(1, \"red\");\n",
        "print(C1.radius);\n",
        "print(C1.color);\n",
        "C1.radius = 2;\n",
        "print(C1.radius);\n",
        "C1.add_radius(8); # No need to type the self parameter\n",
        "print(C1.radius);"
      ],
      "metadata": {
        "colab": {
          "base_uri": "https://localhost:8080/"
        },
        "id": "-ZMsrv3nuu4p",
        "outputId": "7b190e41-09cb-4144-fb31-f3f24b6d99ee"
      },
      "execution_count": 33,
      "outputs": [
        {
          "output_type": "stream",
          "name": "stdout",
          "text": [
            "1\n",
            "red\n",
            "2\n",
            "10\n"
          ]
        }
      ]
    }
  ]
}