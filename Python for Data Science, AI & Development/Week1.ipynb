{
  "nbformat": 4,
  "nbformat_minor": 0,
  "metadata": {
    "colab": {
      "provenance": [],
      "authorship_tag": "ABX9TyO63uM0TKzjXsALm3MOBegI",
      "include_colab_link": true
    },
    "kernelspec": {
      "name": "python3",
      "display_name": "Python 3"
    },
    "language_info": {
      "name": "python"
    }
  },
  "cells": [
    {
      "cell_type": "markdown",
      "metadata": {
        "id": "view-in-github",
        "colab_type": "text"
      },
      "source": [
        "<a href=\"https://colab.research.google.com/github/Nicholas920214/IBM_DataScience/blob/main/Python%20for%20Data%20Science%2C%20AI%20%26%20Development/Week1.ipynb\" target=\"_parent\"><img src=\"https://colab.research.google.com/assets/colab-badge.svg\" alt=\"Open In Colab\"/></a>"
      ]
    },
    {
      "cell_type": "code",
      "execution_count": null,
      "metadata": {
        "colab": {
          "base_uri": "https://localhost:8080/"
        },
        "id": "d8vMk88dcbmv",
        "outputId": "d1219ba1-e6f2-49a7-fc2b-48df08d6e55c"
      },
      "outputs": [
        {
          "output_type": "stream",
          "name": "stdout",
          "text": [
            "1\n",
            "\n",
            "\n",
            "<class 'int'>\n"
          ]
        },
        {
          "output_type": "execute_result",
          "data": {
            "text/plain": [
              "int"
            ]
          },
          "metadata": {},
          "execution_count": 11
        }
      ],
      "source": [
        "print(int(1.6));\n",
        "print(\"\\n\");\n",
        "print(type(5));\n",
        "type(5)"
      ]
    },
    {
      "cell_type": "code",
      "source": [
        "ans = 11 // 2; # double slash means integer value -> round it down\n",
        "print(ans);\n",
        "float_ans = 6/2;\n",
        "print(float_ans);\n",
        "ans = ans + 1;\n",
        "print(ans);"
      ],
      "metadata": {
        "colab": {
          "base_uri": "https://localhost:8080/"
        },
        "id": "i22tPTavdk4M",
        "outputId": "39b882a6-4b72-405c-ec99-1ef86405f5a3"
      },
      "execution_count": null,
      "outputs": [
        {
          "output_type": "stream",
          "name": "stdout",
          "text": [
            "5\n",
            "3.0\n",
            "6\n"
          ]
        }
      ]
    },
    {
      "cell_type": "code",
      "source": [
        "str = \"Mic dona\";\n",
        "print(str[0]);\n",
        "print(str[-1]);\n",
        "print(str[-5]);\n",
        "print(str[3]);\n",
        "print(str[0:3]); # only from str[0] to str[2]\n",
        "print(str[::2]); # with increment of 2\n",
        "print(str[0:6:2]) # with increment of 2 from str[0] to str[5]\n",
        "print(len(str));\n",
        "# tuple\n",
        "str = 3 * str;\n",
        "print(str);\n",
        "str = \"Mic dona\" + \" string\";\n",
        "print(str);"
      ],
      "metadata": {
        "colab": {
          "base_uri": "https://localhost:8080/"
        },
        "id": "FYi7x5r2evLJ",
        "outputId": "de270ba4-213b-4b11-faea-96b4a3bdb690"
      },
      "execution_count": null,
      "outputs": [
        {
          "output_type": "stream",
          "name": "stdout",
          "text": [
            "M\n",
            "a\n",
            " \n",
            " \n",
            "Mic\n",
            "Mcdn\n",
            "Mcd\n",
            "8\n",
            "Mic donaMic donaMic dona\n",
            "Mic dona string\n"
          ]
        }
      ]
    },
    {
      "cell_type": "code",
      "source": [
        "A = \"Python is funny\";\n",
        "B = A.upper();\n",
        "print(B);\n",
        "B = A.lower();\n",
        "print(B);\n",
        "B = A.replace(\"Python\", \"C++\");\n",
        "print(B);\n",
        "integer = A.find('is'); # store the first character's index\n",
        "print(integer);"
      ],
      "metadata": {
        "colab": {
          "base_uri": "https://localhost:8080/"
        },
        "id": "YF9yv8M3gVcl",
        "outputId": "25ecee6e-26d2-4928-aa7c-de26f137ca60"
      },
      "execution_count": null,
      "outputs": [
        {
          "output_type": "stream",
          "name": "stdout",
          "text": [
            "PYTHON IS FUNNY\n",
            "python is funny\n",
            "C++ is funny\n",
            "7\n"
          ]
        }
      ]
    }
  ]
}