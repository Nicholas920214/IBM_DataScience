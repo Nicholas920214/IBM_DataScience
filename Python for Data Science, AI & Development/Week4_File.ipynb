{
  "nbformat": 4,
  "nbformat_minor": 0,
  "metadata": {
    "colab": {
      "provenance": [],
      "authorship_tag": "ABX9TyN5/kAkOkjp7ITz66WKYNm2"
    },
    "kernelspec": {
      "name": "python3",
      "display_name": "Python 3"
    },
    "language_info": {
      "name": "python"
    }
  },
  "cells": [
    {
      "cell_type": "markdown",
      "source": [
        "### File Reading\n",
        "* File.name -> get the path name\n",
        "* mode \"r\" means reading\n",
        "* use \"with...as\" will automatically close the file\n",
        "* read(): it will output every line\n",
        "* readlines(): every time it outputs a line, and the format is list\n",
        "* readline(): read only one line or the character, and it reads up to only one line"
      ],
      "metadata": {
        "id": "UMEy7mC42Pcw"
      }
    },
    {
      "cell_type": "code",
      "execution_count": 28,
      "metadata": {
        "id": "dJ8K8hlM2Mac",
        "colab": {
          "base_uri": "https://localhost:8080/"
        },
        "outputId": "d07e0476-3eea-45fb-cccb-8066c10ce856"
      },
      "outputs": [
        {
          "output_type": "stream",
          "name": "stdout",
          "text": [
            "Drive already mounted at /content/drive; to attempt to forcibly remount, call drive.mount(\"/content/drive\", force_remount=True).\n",
            "/content/drive/MyDrive/IBM Data Science/Python for Data Science, AI & Development/Example.txt\n",
            "This is line 1\n",
            "This is line 2\n",
            "This is line 3\n",
            "File has been closed.\n"
          ]
        }
      ],
      "source": [
        "# load it from google colab\n",
        "from google.colab import drive;\n",
        "drive.mount('/content/drive');\n",
        "#\n",
        "with open(\"/content/drive/MyDrive/IBM Data Science/Python for Data Science, AI & Development/Example.txt\", \"r\") as File1:\n",
        "  # compare the read(), readlines(), and readline()\n",
        "  print(File1.name);\n",
        "  file_stuff = File1.read();\n",
        "  print(file_stuff);\n",
        "\n",
        "if File1.closed:\n",
        "  print(\"File has been closed.\");\n",
        "else:\n",
        "  print(\"File still opens.\");\n"
      ]
    },
    {
      "cell_type": "code",
      "source": [
        "from google.colab import drive;\n",
        "drive.mount('/content/drive');\n",
        "\n",
        "with open(\"/content/drive/MyDrive/IBM Data Science/Python for Data Science, AI & Development/Example.txt\", \"r\") as File1:\n",
        "  file_stuff = File1.readlines(); # read all the lines, the difference between the read() and readlines() is the format\n",
        "  print(file_stuff);\n",
        "\n",
        "if File1.closed:\n",
        "  print(\"File has been closed.\");\n",
        "else:\n",
        "  print(\"File still opens.\");"
      ],
      "metadata": {
        "colab": {
          "base_uri": "https://localhost:8080/"
        },
        "id": "liPGo5iTMv45",
        "outputId": "3fd847df-20aa-4b20-d9f4-437c5762165b"
      },
      "execution_count": 15,
      "outputs": [
        {
          "output_type": "stream",
          "name": "stdout",
          "text": [
            "Drive already mounted at /content/drive; to attempt to forcibly remount, call drive.mount(\"/content/drive\", force_remount=True).\n",
            "['This is line 1\\n', 'This is line 2\\n', 'This is line 3']\n",
            "File has been closed.\n"
          ]
        }
      ]
    },
    {
      "cell_type": "code",
      "source": [
        "from google.colab import drive;\n",
        "drive.mount('/content/drive');\n",
        "\n",
        "with open(\"/content/drive/MyDrive/IBM Data Science/Python for Data Science, AI & Development/Example.txt\", \"r\") as File1:\n",
        "  file_stuff = File1.readline(); # just read a line\n",
        "  print(file_stuff);\n",
        "  file_stuff = File1.readline();\n",
        "  print(file_stuff);\n",
        "  file_stuff = File1.readline();\n",
        "  print(file_stuff);\n",
        "\n",
        "if File1.closed:\n",
        "  print(\"File has been closed.\");\n",
        "else:\n",
        "  print(\"File still opens.\");"
      ],
      "metadata": {
        "colab": {
          "base_uri": "https://localhost:8080/"
        },
        "id": "bPgUJAfAMxTy",
        "outputId": "1037664a-ad54-400a-85aa-8f685bf7584e"
      },
      "execution_count": 17,
      "outputs": [
        {
          "output_type": "stream",
          "name": "stdout",
          "text": [
            "Drive already mounted at /content/drive; to attempt to forcibly remount, call drive.mount(\"/content/drive\", force_remount=True).\n",
            "This is line 1\n",
            "\n",
            "This is line 2\n",
            "\n",
            "This is line 3\n",
            "File has been closed.\n"
          ]
        }
      ]
    },
    {
      "cell_type": "code",
      "source": [
        "from google.colab import drive;\n",
        "drive.mount('/content/drive');\n",
        "\n",
        "with open(\"/content/drive/MyDrive/IBM Data Science/Python for Data Science, AI & Development/Example.txt\", \"r\") as File1:\n",
        "  for line in File1:\n",
        "    print(line);\n",
        "\n",
        "if File1.closed:\n",
        "  print(\"File has been closed.\");\n",
        "else:\n",
        "  print(\"File still opens.\");"
      ],
      "metadata": {
        "colab": {
          "base_uri": "https://localhost:8080/"
        },
        "id": "PAM_CJk8M0tg",
        "outputId": "31b2055b-5f0e-4095-f1df-d37aebcddfda"
      },
      "execution_count": 18,
      "outputs": [
        {
          "output_type": "stream",
          "name": "stdout",
          "text": [
            "Drive already mounted at /content/drive; to attempt to forcibly remount, call drive.mount(\"/content/drive\", force_remount=True).\n",
            "This is line 1\n",
            "\n",
            "This is line 2\n",
            "\n",
            "This is line 3\n",
            "File has been closed.\n"
          ]
        }
      ]
    },
    {
      "cell_type": "code",
      "source": [
        "from google.colab import drive;\n",
        "drive.mount('/content/drive');\n",
        "\n",
        "with open(\"/content/drive/MyDrive/IBM Data Science/Python for Data Science, AI & Development/Example.txt\", \"r\") as File1:\n",
        "  file_stuff = File1.readline(16); # also read the \\n\n",
        "  print(file_stuff);\n",
        "  file_stuff = File1.readline(5);\n",
        "  print(file_stuff);\n",
        "  file_stuff = File1.readline(20);\n",
        "  print(file_stuff);\n",
        "\n",
        "if File1.closed:\n",
        "  print(\"File has been closed.\");\n",
        "else:\n",
        "  print(\"File still opens.\");"
      ],
      "metadata": {
        "colab": {
          "base_uri": "https://localhost:8080/"
        },
        "id": "hzYNQCBTM08w",
        "outputId": "be732c4e-eabb-43f3-e29a-5b7a723956c9"
      },
      "execution_count": 22,
      "outputs": [
        {
          "output_type": "stream",
          "name": "stdout",
          "text": [
            "Drive already mounted at /content/drive; to attempt to forcibly remount, call drive.mount(\"/content/drive\", force_remount=True).\n",
            "This is line 1\n",
            "\n",
            "This \n",
            "is line 2\n",
            "\n",
            "File has been closed.\n"
          ]
        }
      ]
    },
    {
      "cell_type": "markdown",
      "source": [
        "### File Writing and Appending\n",
        "* it will create a new one or just rewrite it\n",
        "* mode \"w\" means writing\n",
        "* mode \"a\" means appending"
      ],
      "metadata": {
        "id": "wF2y1x0wP3bq"
      }
    },
    {
      "cell_type": "code",
      "source": [
        "from google.colab import drive;\n",
        "drive.mount('/content/drive');\n",
        "\n",
        "with open(\"/content/drive/MyDrive/IBM Data Science/Python for Data Science, AI & Development/Example2.txt\", \"w\") as File1:\n",
        "  File1.write(\"This is line A\\n\");\n",
        "  File1.write(\"This is line B\\n\");\n",
        "\n",
        "if File1.closed:\n",
        "  print(\"File has been closed.\");\n",
        "else:\n",
        "  print(\"File still opens.\");"
      ],
      "metadata": {
        "colab": {
          "base_uri": "https://localhost:8080/"
        },
        "id": "9mbHFeZkP7rK",
        "outputId": "9a3d1802-bb1c-47f1-a925-324678f06954"
      },
      "execution_count": 24,
      "outputs": [
        {
          "output_type": "stream",
          "name": "stdout",
          "text": [
            "Drive already mounted at /content/drive; to attempt to forcibly remount, call drive.mount(\"/content/drive\", force_remount=True).\n",
            "File has been closed.\n"
          ]
        }
      ]
    },
    {
      "cell_type": "code",
      "source": [
        "from google.colab import drive;\n",
        "drive.mount('/content/drive');\n",
        "\n",
        "with open(\"/content/drive/MyDrive/IBM Data Science/Python for Data Science, AI & Development/Example2.txt\", \"w\") as File1:\n",
        "  Lines = [\"This is line A\\n\", \"This is line B\\n\", \"This is line C\\n\"];\n",
        "  for line in Lines:\n",
        "    File1.write(line);\n",
        "\n",
        "if File1.closed:\n",
        "  print(\"File has been closed.\");\n",
        "else:\n",
        "  print(\"File still opens.\");"
      ],
      "metadata": {
        "colab": {
          "base_uri": "https://localhost:8080/"
        },
        "id": "LXM8-Zk1QXKJ",
        "outputId": "8fe69f42-2a89-4c57-ff6d-6aef56d830fd"
      },
      "execution_count": 25,
      "outputs": [
        {
          "output_type": "stream",
          "name": "stdout",
          "text": [
            "Drive already mounted at /content/drive; to attempt to forcibly remount, call drive.mount(\"/content/drive\", force_remount=True).\n",
            "File has been closed.\n"
          ]
        }
      ]
    },
    {
      "cell_type": "code",
      "source": [
        "from google.colab import drive;\n",
        "drive.mount('/content/drive');\n",
        "\n",
        "with open(\"/content/drive/MyDrive/IBM Data Science/Python for Data Science, AI & Development/Example2.txt\", \"a\") as File1: #append\n",
        "  File1.write(\"This is line D\\n\");\n",
        "\n",
        "if File1.closed:\n",
        "  print(\"File has been closed.\");\n",
        "else:\n",
        "  print(\"File still opens.\");"
      ],
      "metadata": {
        "colab": {
          "base_uri": "https://localhost:8080/"
        },
        "id": "yrFNe6O4Q20-",
        "outputId": "dae39d72-e778-4859-e9a2-8c3a568df5b4"
      },
      "execution_count": 26,
      "outputs": [
        {
          "output_type": "stream",
          "name": "stdout",
          "text": [
            "Drive already mounted at /content/drive; to attempt to forcibly remount, call drive.mount(\"/content/drive\", force_remount=True).\n",
            "File has been closed.\n"
          ]
        }
      ]
    },
    {
      "cell_type": "code",
      "source": [
        "# Copy a file\n",
        "from google.colab import drive;\n",
        "drive.mount('/content/drive');\n",
        "\n",
        "with open(\"/content/drive/MyDrive/IBM Data Science/Python for Data Science, AI & Development/Example.txt\", \"r\") as readfile:\n",
        "  with open(\"/content/drive/MyDrive/IBM Data Science/Python for Data Science, AI & Development/Example3.txt\", \"w\") as writefile:\n",
        "    for line in readfile:\n",
        "      writefile.write(line);\n",
        "\n",
        "if File1.closed:\n",
        "  print(\"File has been closed.\");\n",
        "else:\n",
        "  print(\"File still opens.\");"
      ],
      "metadata": {
        "colab": {
          "base_uri": "https://localhost:8080/"
        },
        "id": "saSh4KNORRuJ",
        "outputId": "6787dc1f-cfa1-403f-88ac-8b82ae6685ef"
      },
      "execution_count": 27,
      "outputs": [
        {
          "output_type": "stream",
          "name": "stdout",
          "text": [
            "Drive already mounted at /content/drive; to attempt to forcibly remount, call drive.mount(\"/content/drive\", force_remount=True).\n",
            "File has been closed.\n"
          ]
        }
      ]
    }
  ]
}