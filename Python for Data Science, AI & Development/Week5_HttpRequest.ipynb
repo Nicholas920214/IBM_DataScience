{
  "nbformat": 4,
  "nbformat_minor": 0,
  "metadata": {
    "colab": {
      "provenance": [],
      "authorship_tag": "ABX9TyNHci8QJXuYDlsg3cHrtLBL"
    },
    "kernelspec": {
      "name": "python3",
      "display_name": "Python 3"
    },
    "language_info": {
      "name": "python"
    }
  },
  "cells": [
    {
      "cell_type": "markdown",
      "source": [
        "### HTTP Request and Response\n",
        "* HTTP Method\n",
        " * Get: retrieve data from server\n",
        " * Post: submits data to server\n",
        "* Response message\n",
        " * Start line: contain status code(200 means ok, 404 means not found)\n",
        " * Header\n",
        " * Body(HTML)"
      ],
      "metadata": {
        "id": "a_7egUOBP87i"
      }
    },
    {
      "cell_type": "code",
      "execution_count": 10,
      "metadata": {
        "colab": {
          "base_uri": "https://localhost:8080/"
        },
        "id": "EvAI3Q8uP4Rd",
        "outputId": "6a896028-e335-4bc7-97dd-d249ae1ab6fb"
      },
      "outputs": [
        {
          "output_type": "stream",
          "name": "stdout",
          "text": [
            "<Response [200]>\n",
            "200\n",
            "{'User-Agent': 'python-requests/2.27.1', 'Accept-Encoding': 'gzip, deflate', 'Accept': '*/*', 'Connection': 'keep-alive', 'Cookie': '_abck=4A791D7C28ABE92966A259F1528355BA~-1~YAAQfgIkF5O+TceIAQAAB0KF8gr7H5PI7gCg0ZVviTE16vZEGuHaiqyG2podDud2Ne4/pfhgRAJCBMjMd+u9KmIFgKfcNLEjpg3SWxUvbUU/aV/G11tLLhvkGExxaCWxcgwYQ9kjbqk11ZdSL2J3Ui0M5olTWtG0bOzVugJr6lU7YwCEpJ/HfCd0SMkwG2nyJrdeu+nWtr7pUDFUAvLF+aq9M9j+ijQAW7ckLfmJnOSqDBgzTt0FxMsKXGr5TMxicEcLLcofjUa/fvZLylIQ1UH3qMGvCHAyI1DmUBuM2CAW+bwx0AaKxvQNbxMsWBT/w3Tq2zaMF+jYhObnt/Xy8MRVV9TBdFeCY5cfxLiwF/ifDDeXPwM=~-1~-1~-1; bm_sz=FA89D4FAB8CD48BBD743F2A34D7DC544~YAAQfgIkF5S+TceIAQAAB0KF8hSrf6nYoqa8LK8FuG9KYZdTcw5XN1EOgyjva6JyYTBsNiRGtbV+Mnzd0g47TJ4WYnNjnVf/v1ynfb592oBBrfIC35tPdgffqAFbaWoLCJVkFM0HBXAqvOB6tbGVYFnsiptevuXF4FdbrL+V2D1fPeVKLgVng84Hnj4ERVK0Y9+OyoyRcKgBnloJ6UmY4HafQjAnpVBfQW3vIWZpE27j+8bWAB+GKcVXeGNV2Sm+V+0mkw9R7C5kO/26glRIDOs2QeHTzAPF1HcDYPB/eyY=~3355702~4602179'}\n",
            "request body: None\n",
            "{'Accept-Ranges': 'bytes', 'Content-Type': 'text/html', 'ETag': '\"ebaca3cf8bbde851a4419759eed1961b:1687550943.496565\"', 'Last-Modified': 'Fri, 23 Jun 2023 20:07:07 GMT', 'Server': 'AkamaiNetStorage', 'Cache-Control': 'max-age=303', 'Expires': 'Sun, 25 Jun 2023 12:31:42 GMT', 'X-Akamai-Transformed': '9 20371 0 pmb=mTOE,2', 'Content-Encoding': 'gzip', 'Date': 'Sun, 25 Jun 2023 12:26:39 GMT', 'Content-Length': '20575', 'Connection': 'keep-alive', 'Vary': 'Accept-Encoding', 'x-content-type-options': 'nosniff', 'X-XSS-Protection': '1; mode=block', 'Content-Security-Policy': 'upgrade-insecure-requests', 'Strict-Transport-Security': 'max-age=31536000'}\n",
            "Sun, 25 Jun 2023 12:26:39 GMT\n",
            "ISO-8859-1\n"
          ]
        }
      ],
      "source": [
        "# Import Request Library to send the http request\n",
        "import requests;\n",
        "\n",
        "# Also import\n",
        "import os;\n",
        "from PIL import Image;\n",
        "from IPython.display import IFrame;\n",
        "# Get request\n",
        "url = \"https://www.ibm.com/\";\n",
        "r = requests.get(url);\n",
        "print(r);\n",
        "print(r.status_code);\n",
        "print(r.request.headers); # request header\n",
        "print(\"request body:\", r.request.body); # None since no body\n",
        "\n",
        "header=r.headers; # response header\n",
        "print(r.headers);\n",
        "print(header[\"date\"]); # obtain date\n",
        "print(r.encoding);"
      ]
    },
    {
      "cell_type": "markdown",
      "source": [
        "#### Get Request with URL Parameters"
      ],
      "metadata": {
        "id": "9DbXqARvhn7U"
      }
    },
    {
      "cell_type": "code",
      "source": [
        "url_get=\"http://httpbin.org/get\"; # Base URL\n",
        "# query string: ?+parameterName+value\n",
        "payloads = {\"name\":\"Joseph\", \"ID\":\"123\"};\n",
        "r = requests.get(url_get, params = payloads); # Then passing the dictionary payload to the params parameter of the  get() function:\n",
        "print(r.url); # print out url to see\n",
        "print(\"request body:\", r.request.body); # No request body\n",
        "print(r.status_code);\n",
        "print(\"\\n\");\n",
        "print(r.text); # We can view the response as text:\n",
        "print(\"\\n\");\n",
        "print(r.json()); # json file\n",
        "print(r.json()['args']); # args has name and value"
      ],
      "metadata": {
        "colab": {
          "base_uri": "https://localhost:8080/"
        },
        "id": "c6Xhp6gfhtzC",
        "outputId": "92dc1ef2-4d1a-4e1f-bee9-d68c2048b5c8"
      },
      "execution_count": 22,
      "outputs": [
        {
          "output_type": "stream",
          "name": "stdout",
          "text": [
            "http://httpbin.org/get?name=Joseph&ID=123\n",
            "request body: None\n",
            "200\n",
            "\n",
            "\n",
            "{\n",
            "  \"args\": {\n",
            "    \"ID\": \"123\", \n",
            "    \"name\": \"Joseph\"\n",
            "  }, \n",
            "  \"headers\": {\n",
            "    \"Accept\": \"*/*\", \n",
            "    \"Accept-Encoding\": \"gzip, deflate\", \n",
            "    \"Host\": \"httpbin.org\", \n",
            "    \"User-Agent\": \"python-requests/2.27.1\", \n",
            "    \"X-Amzn-Trace-Id\": \"Root=1-649834f2-3a0e82cd726050e75885ebad\"\n",
            "  }, \n",
            "  \"origin\": \"34.125.168.228\", \n",
            "  \"url\": \"http://httpbin.org/get?name=Joseph&ID=123\"\n",
            "}\n",
            "\n",
            "\n",
            "\n",
            "{'args': {'ID': '123', 'name': 'Joseph'}, 'headers': {'Accept': '*/*', 'Accept-Encoding': 'gzip, deflate', 'Host': 'httpbin.org', 'User-Agent': 'python-requests/2.27.1', 'X-Amzn-Trace-Id': 'Root=1-649834f2-3a0e82cd726050e75885ebad'}, 'origin': '34.125.168.228', 'url': 'http://httpbin.org/get?name=Joseph&ID=123'}\n",
            "{'ID': '123', 'name': 'Joseph'}\n"
          ]
        }
      ]
    },
    {
      "cell_type": "markdown",
      "source": [
        "#### Post Request"
      ],
      "metadata": {
        "id": "wHlMtVDAjyTM"
      }
    },
    {
      "cell_type": "code",
      "source": [
        "url_post=\"http://httpbin.org/post\";\n",
        "r_post = requests.post(url_post, data = payloads);\n",
        "\n",
        "# compare two url\n",
        "print(\"POST request URL:\", r_post.url);\n",
        "print(\"GET request URL:\", r.url);\n",
        "print(\"\\n\");\n",
        "\n",
        "# compare two request body, only post has body\n",
        "print(\"POST request body:\", r_post.request.body);\n",
        "print(\"GET request body:\", r.request.body);\n",
        "\n",
        "print(r_post.json()['form']); # form contains name and value"
      ],
      "metadata": {
        "colab": {
          "base_uri": "https://localhost:8080/"
        },
        "id": "LusQwnrpjwV1",
        "outputId": "8972bc5c-93a0-45cf-cb34-890ec9f40a1a"
      },
      "execution_count": 25,
      "outputs": [
        {
          "output_type": "stream",
          "name": "stdout",
          "text": [
            "POST request URL: http://httpbin.org/post\n",
            "GET request URL: http://httpbin.org/get?name=Joseph&ID=123\n",
            "\n",
            "\n",
            "POST request body: name=Joseph&ID=123\n",
            "GET request body: None\n",
            "{'ID': '123', 'name': 'Joseph'}\n"
          ]
        }
      ]
    }
  ]
}