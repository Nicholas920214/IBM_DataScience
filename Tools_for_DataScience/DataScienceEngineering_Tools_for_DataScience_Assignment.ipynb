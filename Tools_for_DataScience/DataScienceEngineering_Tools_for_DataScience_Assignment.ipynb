{
  "nbformat": 4,
  "nbformat_minor": 0,
  "metadata": {
    "colab": {
      "provenance": [],
      "collapsed_sections": [
        "z2cMjEui20p5"
      ],
      "authorship_tag": "ABX9TyNlaA95ELX+rvWYMspCd/7O",
      "include_colab_link": true
    },
    "kernelspec": {
      "name": "python3",
      "display_name": "Python 3"
    },
    "language_info": {
      "name": "python"
    }
  },
  "cells": [
    {
      "cell_type": "markdown",
      "metadata": {
        "id": "view-in-github",
        "colab_type": "text"
      },
      "source": [
        "<a href=\"https://colab.research.google.com/github/Nicholas920214/IBM_DataScience/blob/main/DataScienceEngineering_Tools_for_DataScience_Assignment.ipynb\" target=\"_parent\"><img src=\"https://colab.research.google.com/assets/colab-badge.svg\" alt=\"Open In Colab\"/></a>"
      ]
    },
    {
      "cell_type": "markdown",
      "source": [
        "## Data Science Tools and Engineering\n",
        "In this notebook, Data Science with engineering us introduced and summarized.\n",
        "\n",
        "Objectives:\n",
        "\n",
        "\n",
        "*   List the popular languages in Data Science.\n",
        "*   List the common use libraries in Data Science.\n",
        "*   Testing some python codes\n",
        "\n",
        "\n",
        "\n",
        "\n",
        "\n",
        "\n",
        "\n",
        "Some of the popular languages that Data Scientists use are:\n",
        "\n",
        "\n",
        "1.   Python\n",
        "2.   R language\n",
        "3.   JavaScript\n",
        "\n",
        "Some of the commonly used libraries used by Data Scientists include:\n",
        "\n",
        "\n",
        "1.   Pandas\n",
        "2.   NumPy\n",
        "3.   SciPy\n",
        "\n",
        "|Data Science Tools|\n",
        "|:----:|\n",
        "|Jupyter Notebook|\n",
        "|Visual Studio Code|\n",
        "|Google Colaboratory|\n",
        "\n",
        "#### Below are a few examples of evaluating arithmetic expressions in Python\n",
        "\n",
        "\n",
        "\n",
        "\n",
        "\n",
        "\n",
        "\n"
      ],
      "metadata": {
        "id": "QhkF7ipHsg_N"
      }
    },
    {
      "cell_type": "code",
      "source": [
        "ans = (3*4)+5; # This a simple arithmetic expression to mutiply then add integers\n",
        "print(ans);"
      ],
      "metadata": {
        "colab": {
          "base_uri": "https://localhost:8080/"
        },
        "id": "aZINY0-s0L2f",
        "outputId": "b64e2976-b610-4eba-aa03-35e06d7feb89"
      },
      "execution_count": 9,
      "outputs": [
        {
          "output_type": "stream",
          "name": "stdout",
          "text": [
            "17\n"
          ]
        }
      ]
    },
    {
      "cell_type": "code",
      "source": [
        "minutes = 200; # This will convert 200 minutes to hours by diving by 60\n",
        "hours = 200/60;\n",
        "print(\"hours = \", hours);"
      ],
      "metadata": {
        "colab": {
          "base_uri": "https://localhost:8080/"
        },
        "id": "kD0HASRS1NGp",
        "outputId": "4db7997d-32d7-4e61-8367-ccabb7a67d41"
      },
      "execution_count": 10,
      "outputs": [
        {
          "output_type": "stream",
          "name": "stdout",
          "text": [
            "hours =  3.3333333333333335\n"
          ]
        }
      ]
    },
    {
      "cell_type": "markdown",
      "source": [
        "## Author\n",
        "Nicholas"
      ],
      "metadata": {
        "id": "z2cMjEui20p5"
      }
    }
  ]
}
